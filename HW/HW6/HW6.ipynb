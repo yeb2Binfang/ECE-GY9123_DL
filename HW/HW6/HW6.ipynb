{
  "nbformat": 4,
  "nbformat_minor": 0,
  "metadata": {
    "colab": {
      "name": "HW6.ipynb",
      "provenance": [],
      "authorship_tag": "ABX9TyN9qvmMe3bZQ8IINldNvjmr",
      "include_colab_link": true
    },
    "kernelspec": {
      "name": "python3",
      "display_name": "Python 3"
    },
    "language_info": {
      "name": "python"
    },
    "accelerator": "GPU"
  },
  "cells": [
    {
      "cell_type": "markdown",
      "metadata": {
        "id": "view-in-github",
        "colab_type": "text"
      },
      "source": [
        "<a href=\"https://colab.research.google.com/github/yeb2Binfang/ECE-GY9123_DL/blob/main/HW/HW6/HW6.ipynb\" target=\"_parent\"><img src=\"https://colab.research.google.com/assets/colab-badge.svg\" alt=\"Open In Colab\"/></a>"
      ]
    },
    {
      "cell_type": "markdown",
      "metadata": {
        "id": "zxK7qvDM6s2z"
      },
      "source": [
        "## A simple GAN\n",
        "In this problem, the goal is to train and visualize the outputs of a simple Deep\n",
        "Convolutional GAN (DCGAN) to generate realistic-looking (but fake) images of clothing."
      ]
    },
    {
      "cell_type": "markdown",
      "metadata": {
        "id": "PbTWxpoC6-mj"
      },
      "source": [
        "* a. Use the FashionMNIST training dataset to train the DCGAN. APIs for downloading it\n",
        "are available in both PyTorch and TensorFlow. Images are grayscale and size 28 × 28.\n",
        "* b. Use the following discriminator architecture (kernel size = 5 × 5 with stride = 2 in both\n",
        "directions):\n",
        "** 2D convolutions (1 × 28 × 28 → 64 × 14 × 14 → 128 × 7 × 7)\n",
        "** each convolutional layer is equipped with a Leaky ReLU with slope 0.3, followed\n",
        "by Dropout with parameter 0.3.\n",
        "** a dense layer that takes the flattened output of the last convolution and maps it to a\n",
        "scalar.\n",
        "\n",
        "Here is a [link](https://discuss.pytorch.org/t/how-to-keep-the-shape-of-input-and-output-same-when-dilation-conv/14338/3) that discusses how to appropriately choose padding and stride values in order to\n",
        "desired sizes.\n",
        "\n",
        "* c. Use the following generator architecture (which is essentially the reverse of a standard\n",
        "discriminative architecture). You can use the same kernel size. Construct:\n",
        "** a dense layer that takes a unit Gaussian noise vector of length 100 and maps it to a\n",
        "vector of size 7 ∗ 7 ∗ 256. No bias terms.\n",
        "** several transpose 2D convolutions (256 × 7 × 7 → 128 × 7 × 7 → 64 × 14 × 14 →\n",
        "1 × 28 × 28). No bias terms.\n",
        "** each convolutional layer (except the last one) is equipped with Batch Normalization\n",
        "(batch norm), followed by Leaky ReLU with slope 0.3. The last (output) layer is\n",
        "equipped with tanh activation (no batch norm).\n",
        "* d. Use the cross-entropy loss for training both the generator and the discriminator. Use the\n",
        "Adam optimizer with learning rate $10^{-4}$. \n",
        "* e. Train it for 50 epochs. You can use minibatch sizes of 16, 32, or 64. Training may take\n",
        "several minutes (or even up to an hour), so be patient! Display intermediate images\n",
        "generated after T = 10, T = 30, and T = 50 epochs. If the random seeds are fixed\n",
        "throughout then you should get results of the following quality.\n",
        "![WeChat Screenshot_20210501224441](https://user-images.githubusercontent.com/68700549/116800418-dcd71480-aace-11eb-9f80-41f4ede3ec0c.png)\n",
        "* f. Report loss curves for both the discriminator and the generator loss over all epochs, and\n",
        "qualitatively comment on their behavior.\n",
        "\n",
        "https://debuggercafe.com/implementing-deep-convolutional-gan-with-pytorch/"
      ]
    },
    {
      "cell_type": "markdown",
      "metadata": {
        "id": "TF6BljYF-D0w"
      },
      "source": [
        "## Import packages"
      ]
    },
    {
      "cell_type": "code",
      "metadata": {
        "id": "pirS2cNH6nM0"
      },
      "source": [
        "# import standard PyTorch modules\n",
        "import torch\n",
        "import torch.nn as nn\n",
        "import torch.nn.functional as F\n",
        "import torch.optim as optim\n",
        "from torch.utils.tensorboard import SummaryWriter # TensorBoard support\n",
        "\n",
        "# import torchvision module to handle image manipulation\n",
        "import torchvision\n",
        "from torchvision import datasets\n",
        "import torchvision.transforms as transforms\n",
        "from torch.autograd import Variable\n",
        "\n",
        "import numpy as np\n",
        "import pandas as pd\n",
        "import matplotlib.pyplot as plt\n",
        "%matplotlib inline"
      ],
      "execution_count": 1,
      "outputs": []
    },
    {
      "cell_type": "markdown",
      "metadata": {
        "id": "MsNditvB_LKw"
      },
      "source": [
        "## Load the dataset"
      ]
    },
    {
      "cell_type": "code",
      "metadata": {
        "id": "ZkSDp23P-5eV"
      },
      "source": [
        "## Creates a series of transformation to prepare the dataset. We convert images to tensor\n",
        "transform = transforms.Compose([transforms.ToTensor(),transforms.Normalize((0.5,),(0.5,),)])\n",
        "\n",
        "## Load the dataset\n",
        "train_set = datasets.FashionMNIST('~/.pytorch/F_MNIST_data', download=True, train=True, transform=transform)\n",
        "test_set = datasets.FashionMNIST('~/.pytorch/F_MNIST_data', download=True, train=False, transform=transform)\n",
        "\n",
        "## Data Loader\n",
        "train_data_loader = torch.utils.data.DataLoader(train_set, batch_size=64, shuffle=True)\n",
        "\n"
      ],
      "execution_count": 2,
      "outputs": []
    },
    {
      "cell_type": "markdown",
      "metadata": {
        "id": "g3DfMKbxET14"
      },
      "source": [
        "### Explore dataset\n",
        "We have 60,000 data  for training and 10,000 data for testing"
      ]
    },
    {
      "cell_type": "code",
      "metadata": {
        "colab": {
          "base_uri": "https://localhost:8080/"
        },
        "id": "TJ5GxXp4DcF_",
        "outputId": "3fa1f526-32ee-415f-d2f5-5bc45217f401"
      },
      "source": [
        "print(train_set)"
      ],
      "execution_count": 3,
      "outputs": [
        {
          "output_type": "stream",
          "text": [
            "Dataset FashionMNIST\n",
            "    Number of datapoints: 60000\n",
            "    Root location: /root/.pytorch/F_MNIST_data\n",
            "    Split: Train\n",
            "    StandardTransform\n",
            "Transform: Compose(\n",
            "               ToTensor()\n",
            "               Normalize(mean=(0.5,), std=(0.5,))\n",
            "           )\n"
          ],
          "name": "stdout"
        }
      ]
    },
    {
      "cell_type": "code",
      "metadata": {
        "colab": {
          "base_uri": "https://localhost:8080/"
        },
        "id": "0w0ZuMYzEZVy",
        "outputId": "d7e0a839-d072-4da0-d0b1-15e03e90f16d"
      },
      "source": [
        "print(test_set)"
      ],
      "execution_count": 4,
      "outputs": [
        {
          "output_type": "stream",
          "text": [
            "Dataset FashionMNIST\n",
            "    Number of datapoints: 10000\n",
            "    Root location: /root/.pytorch/F_MNIST_data\n",
            "    Split: Test\n",
            "    StandardTransform\n",
            "Transform: Compose(\n",
            "               ToTensor()\n",
            "               Normalize(mean=(0.5,), std=(0.5,))\n",
            "           )\n"
          ],
          "name": "stdout"
        }
      ]
    },
    {
      "cell_type": "markdown",
      "metadata": {
        "id": "lfk0KgcYFfbm"
      },
      "source": [
        "### Visualize the image"
      ]
    },
    {
      "cell_type": "code",
      "metadata": {
        "colab": {
          "base_uri": "https://localhost:8080/"
        },
        "id": "HbHwoyepEMXA",
        "outputId": "d10771e6-3b3a-4e88-dc55-5cd8083df47a"
      },
      "source": [
        "dataiter = iter(train_data_loader)\n",
        "images, labels = dataiter.next()\n",
        "print(type(images))\n",
        "print(images.shape)\n",
        "print(labels.shape)"
      ],
      "execution_count": null,
      "outputs": [
        {
          "output_type": "stream",
          "text": [
            "<class 'torch.Tensor'>\n",
            "torch.Size([64, 1, 28, 28])\n",
            "torch.Size([64])\n"
          ],
          "name": "stdout"
        }
      ]
    },
    {
      "cell_type": "code",
      "metadata": {
        "colab": {
          "base_uri": "https://localhost:8080/",
          "height": 337
        },
        "id": "z02X5HFbFg9e",
        "outputId": "41b65ee8-5c75-4440-a091-82c1e3cdf9c5"
      },
      "source": [
        "rand_index = np.random.randint(0,64)\n",
        "fig = plt.figure(figsize=(15,5))\n",
        "plt.imshow(images[rand_index].reshape((28,28)),cmap='gray')\n",
        "print(\"the label is: \"+ str(int(labels[rand_index])))"
      ],
      "execution_count": null,
      "outputs": [
        {
          "output_type": "stream",
          "text": [
            "the label is: 3\n"
          ],
          "name": "stdout"
        },
        {
          "output_type": "display_data",
          "data": {
            "image/png": "[encoded data removed]",
            "text/plain": [
              "<Figure size 1080x360 with 1 Axes>"
            ]
          },
          "metadata": {
            "tags": [],
            "needs_background": "light"
          }
        }
      ]
    },
    {
      "cell_type": "markdown",
      "metadata": {
        "id": "uoYIOMWxEqQ1"
      },
      "source": [
        "## Build discriminator architecture\n",
        "kernel size = 5 × 5 with stride = 2 in both\n",
        "directions:\n",
        "\n",
        "* 2D convolutions (1 × 28 × 28 → 64 × 14 × 14 → 128 × 7 × 7)\n",
        "* each convolutional layer is equipped with a Leaky ReLU with slope 0.3, followed\n",
        "by Dropout with parameter 0.3.\n",
        "* a dense layer that takes the flattened output of the last convolution and maps it to a\n",
        "scalar."
      ]
    },
    {
      "cell_type": "code",
      "metadata": {
        "id": "vRwOBJUWEp3U"
      },
      "source": [
        "def discriminator_model():\n",
        "  model = nn.Sequential(\n",
        "      nn.Conv2d(1,64,5,2,padding=2),\n",
        "      nn.LeakyReLU(0.3),\n",
        "      nn.Dropout(0.3),\n",
        "\n",
        "      nn.Conv2d(64,128,5,2,padding=2),\n",
        "      nn.LeakyReLU(0.3),\n",
        "      nn.Dropout(0.3),\n",
        "\n",
        "      nn.Flatten(),\n",
        "      nn.Linear(6272,1)\n",
        "  )\n",
        "  return model"
      ],
      "execution_count": null,
      "outputs": []
    },
    {
      "cell_type": "code",
      "metadata": {
        "colab": {
          "base_uri": "https://localhost:8080/"
        },
        "id": "ESwFrHAqL5Mn",
        "outputId": "c726e737-4c8f-4fcd-af0e-301bf0b6f99a"
      },
      "source": [
        "from torchsummary import summary\n",
        "discriminator = discriminator_model()\n",
        "summary(discriminator,(1,28,28))"
      ],
      "execution_count": null,
      "outputs": [
        {
          "output_type": "stream",
          "text": [
            "----------------------------------------------------------------\n",
            "        Layer (type)               Output Shape         Param #\n",
            "================================================================\n",
            "            Conv2d-1           [-1, 64, 14, 14]           1,664\n",
            "         LeakyReLU-2           [-1, 64, 14, 14]               0\n",
            "           Dropout-3           [-1, 64, 14, 14]               0\n",
            "            Conv2d-4            [-1, 128, 7, 7]         204,928\n",
            "         LeakyReLU-5            [-1, 128, 7, 7]               0\n",
            "           Dropout-6            [-1, 128, 7, 7]               0\n",
            "           Flatten-7                 [-1, 6272]               0\n",
            "            Linear-8                    [-1, 1]           6,273\n",
            "================================================================\n",
            "Total params: 212,865\n",
            "Trainable params: 212,865\n",
            "Non-trainable params: 0\n",
            "----------------------------------------------------------------\n",
            "Input size (MB): 0.00\n",
            "Forward/backward pass size (MB): 0.48\n",
            "Params size (MB): 0.81\n",
            "Estimated Total Size (MB): 1.29\n",
            "----------------------------------------------------------------\n"
          ],
          "name": "stdout"
        }
      ]
    },
    {
      "cell_type": "code",
      "metadata": {
        "id": "WT7OY8Wynx4_"
      },
      "source": [
        "class discriminator_model(nn.Module):\n",
        "\n",
        "  def __init__(self):\n",
        "    super(discriminator_model, self).__init__()\n",
        "    self.main = nn.Sequential(\n",
        "      nn.Conv2d(1,64,5,2,padding=2),\n",
        "      nn.LeakyReLU(0.3),\n",
        "      nn.Dropout(0.3),\n",
        "\n",
        "      nn.Conv2d(64,128,5,2,padding=2),\n",
        "      nn.LeakyReLU(0.3),\n",
        "      nn.Dropout(0.3),\n",
        "\n",
        "      nn.Flatten(),\n",
        "      nn.Linear(6272,1)\n",
        "    )\n",
        "\n",
        "    \n",
        "  def weight_init(self):\n",
        "    for m in self._modules:\n",
        "      normal_init(self._modules[m])\n",
        "      \n",
        "  def forward(self, input):\n",
        "    return self.main(input)"
      ],
      "execution_count": 3,
      "outputs": []
    },
    {
      "cell_type": "code",
      "metadata": {
        "id": "HRcuOQOHpUal"
      },
      "source": [
        "from torchsummary import summary\n",
        "discriminator = discriminator_model()\n",
        "#summary(discriminator,(1,28,28))"
      ],
      "execution_count": 4,
      "outputs": []
    },
    {
      "cell_type": "markdown",
      "metadata": {
        "id": "fZmkBp1RksZb"
      },
      "source": [
        "## Build generator"
      ]
    },
    {
      "cell_type": "markdown",
      "metadata": {
        "id": "bN4EW1-2P0CG"
      },
      "source": [
        "* c. Use the following generator architecture (which is essentially the reverse of a standard\n",
        "discriminative architecture). You can use the same kernel size. Construct:\n",
        "** a dense layer that takes a unit Gaussian noise vector of length 100 (This means initial input.) and maps it to a\n",
        "vector of size 7 ∗ 7 ∗ 256.  No bias terms.\n",
        "** several transpose 2D convolutions (256 × 7 × 7 → 128 × 7 × 7 → 64 × 14 × 14 →\n",
        "1 × 28 × 28). No bias terms.\n",
        "** each convolutional layer (except the last one) is equipped with Batch Normalization\n",
        "(batch norm), followed by Leaky ReLU with slope 0.3. The last (output) layer is\n",
        "equipped with tanh activation (no batch norm)."
      ]
    },
    {
      "cell_type": "code",
      "metadata": {
        "id": "fPN9k1GPQZeD"
      },
      "source": [
        "def generator_model():\n",
        "  model = nn.Sequential(\n",
        "      nn.ConvTranspose2d(100,256,7,1,0,bias=False),\n",
        "      nn.BatchNorm2d(256),\n",
        "      nn.LeakyReLU(0.3),\n",
        "\n",
        "      nn.ConvTranspose2d(256,128,5,1,2,bias=False),\n",
        "      nn.BatchNorm2d(128),\n",
        "      nn.LeakyReLU(0.3),\n",
        "\n",
        "      nn.ConvTranspose2d(128,64,6,2,2,bias=False),\n",
        "      nn.BatchNorm2d(64),\n",
        "      nn.LeakyReLU(0.3),\n",
        "\n",
        "      nn.ConvTranspose2d(64,1,6,2,2,bias=False),\n",
        "      nn.Tanh()\n",
        "  )\n",
        "  return model"
      ],
      "execution_count": null,
      "outputs": []
    },
    {
      "cell_type": "code",
      "metadata": {
        "id": "gTjEKYdDiHEb",
        "colab": {
          "base_uri": "https://localhost:8080/"
        },
        "outputId": "b0689ce1-a555-472f-b041-d493a591f6ec"
      },
      "source": [
        "generator = generator_model()\n",
        "summary(generator,(100,1,1))"
      ],
      "execution_count": null,
      "outputs": [
        {
          "output_type": "stream",
          "text": [
            "----------------------------------------------------------------\n",
            "        Layer (type)               Output Shape         Param #\n",
            "================================================================\n",
            "   ConvTranspose2d-1            [-1, 256, 7, 7]       1,254,400\n",
            "       BatchNorm2d-2            [-1, 256, 7, 7]             512\n",
            "         LeakyReLU-3            [-1, 256, 7, 7]               0\n",
            "   ConvTranspose2d-4            [-1, 128, 7, 7]         819,200\n",
            "       BatchNorm2d-5            [-1, 128, 7, 7]             256\n",
            "         LeakyReLU-6            [-1, 128, 7, 7]               0\n",
            "   ConvTranspose2d-7           [-1, 64, 14, 14]         294,912\n",
            "       BatchNorm2d-8           [-1, 64, 14, 14]             128\n",
            "         LeakyReLU-9           [-1, 64, 14, 14]               0\n",
            "  ConvTranspose2d-10            [-1, 1, 28, 28]           2,304\n",
            "             Tanh-11            [-1, 1, 28, 28]               0\n",
            "================================================================\n",
            "Total params: 2,371,712\n",
            "Trainable params: 2,371,712\n",
            "Non-trainable params: 0\n",
            "----------------------------------------------------------------\n",
            "Input size (MB): 0.00\n",
            "Forward/backward pass size (MB): 0.73\n",
            "Params size (MB): 9.05\n",
            "Estimated Total Size (MB): 9.78\n",
            "----------------------------------------------------------------\n"
          ],
          "name": "stdout"
        }
      ]
    },
    {
      "cell_type": "code",
      "metadata": {
        "id": "AkuJAAynr2Ie"
      },
      "source": [
        "def normal_init(m):\n",
        "  if isinstance(m, nn.ConvTranspose2d) or isinstance(m, nn.Conv2d):\n",
        "    m.weight.data.normal_(0.0, 0.02)\n",
        "    m.bias.data.zero_()"
      ],
      "execution_count": 5,
      "outputs": []
    },
    {
      "cell_type": "code",
      "metadata": {
        "id": "RjFhZWCzpg8Z"
      },
      "source": [
        "class generator_model(nn.Module):\n",
        "\n",
        "  def __init__(self):\n",
        "    super(generator_model, self).__init__()\n",
        "    self.main = nn.Sequential(\n",
        "      nn.ConvTranspose2d(100,256,7,1,0,bias=False),\n",
        "      nn.BatchNorm2d(256),\n",
        "      nn.LeakyReLU(0.3),\n",
        "\n",
        "      nn.ConvTranspose2d(256,128,5,1,2,bias=False),\n",
        "      nn.BatchNorm2d(128),\n",
        "      nn.LeakyReLU(0.3),\n",
        "\n",
        "      nn.ConvTranspose2d(128,64,6,2,2,bias=False),\n",
        "      nn.BatchNorm2d(64),\n",
        "      nn.LeakyReLU(0.3),\n",
        "\n",
        "      nn.ConvTranspose2d(64,1,6,2,2,bias=False),\n",
        "      nn.Tanh()\n",
        "    )\n",
        "    \n",
        "  def weight_init(self):\n",
        "    for m in self._modules:\n",
        "      normal_init(self._modules[m])\n",
        "      \n",
        "  def forward(self, input):\n",
        "    return self.main(input)"
      ],
      "execution_count": 6,
      "outputs": []
    },
    {
      "cell_type": "code",
      "metadata": {
        "id": "9sykxNYvp1Ys"
      },
      "source": [
        "generator = generator_model()\n",
        "#summary(generator,(100,1,1))"
      ],
      "execution_count": 7,
      "outputs": []
    },
    {
      "cell_type": "code",
      "metadata": {
        "id": "4gzpIOO_dctK"
      },
      "source": [
        "latent = torch.randn(1,100, 1, 1)"
      ],
      "execution_count": 9,
      "outputs": []
    },
    {
      "cell_type": "code",
      "metadata": {
        "id": "fNNx1LPZen46"
      },
      "source": [
        "im = generator(latent)"
      ],
      "execution_count": 10,
      "outputs": []
    },
    {
      "cell_type": "code",
      "metadata": {
        "id": "J7bieyg1jll2",
        "colab": {
          "base_uri": "https://localhost:8080/",
          "height": 281
        },
        "outputId": "3172cbc2-c5dd-4359-b7ac-5dd5ef93d1ab"
      },
      "source": [
        "plt.imshow(im[0, 0, :, :].detach(),cmap='gray')"
      ],
      "execution_count": 11,
      "outputs": [
        {
          "output_type": "execute_result",
          "data": {
            "text/plain": [
              "<matplotlib.image.AxesImage at 0x7fe949f34590>"
            ]
          },
          "metadata": {
            "tags": []
          },
          "execution_count": 11
        },
        {
          "output_type": "display_data",
          "data": {
            "image/png": "[encoded data removed]",
            "text/plain": [
              "<Figure size 432x288 with 1 Axes>"
            ]
          },
          "metadata": {
            "tags": [],
            "needs_background": "light"
          }
        }
      ]
    },
    {
      "cell_type": "code",
      "metadata": {
        "id": "B-CPlJ-yrdQR"
      },
      "source": [
        "generator.weight_init()\n",
        "discriminator.weight_init()"
      ],
      "execution_count": 8,
      "outputs": []
    },
    {
      "cell_type": "code",
      "metadata": {
        "id": "_9yR0wEir8ay",
        "outputId": "2303475b-3fd1-428f-a265-4622a843e23c",
        "colab": {
          "base_uri": "https://localhost:8080/"
        }
      },
      "source": [
        "generator.cuda()\n",
        "discriminator.cuda()"
      ],
      "execution_count": 9,
      "outputs": [
        {
          "output_type": "execute_result",
          "data": {
            "text/plain": [
              "discriminator_model(\n",
              "  (main): Sequential(\n",
              "    (0): Conv2d(1, 64, kernel_size=(5, 5), stride=(2, 2), padding=(2, 2))\n",
              "    (1): LeakyReLU(negative_slope=0.3)\n",
              "    (2): Dropout(p=0.3, inplace=False)\n",
              "    (3): Conv2d(64, 128, kernel_size=(5, 5), stride=(2, 2), padding=(2, 2))\n",
              "    (4): LeakyReLU(negative_slope=0.3)\n",
              "    (5): Dropout(p=0.3, inplace=False)\n",
              "    (6): Flatten(start_dim=1, end_dim=-1)\n",
              "    (7): Linear(in_features=6272, out_features=1, bias=True)\n",
              "  )\n",
              ")"
            ]
          },
          "metadata": {
            "tags": []
          },
          "execution_count": 9
        }
      ]
    },
    {
      "cell_type": "markdown",
      "metadata": {
        "id": "O7ZAN7HMke5U"
      },
      "source": [
        "## Loss and optimizers\n",
        "Use the cross-entropy loss for training both the generator and the discriminator. Use the\n",
        "Adam optimizer with learning rate $10^{-4}$. "
      ]
    },
    {
      "cell_type": "code",
      "metadata": {
        "id": "lZLY1byrk9Ag"
      },
      "source": [
        "loss = nn.BCELoss()\n",
        "learning_rate = 1e-4\n",
        "\n",
        "# Setup Adam optimizers for both G and D\n",
        "optimizerD = optim.Adam(discriminator.parameters(), lr=learning_rate, betas=(0.5, 0.999))\n",
        "optimizerG = optim.Adam(generator.parameters(), lr=learning_rate, betas=(0.5, 0.999))"
      ],
      "execution_count": 10,
      "outputs": []
    },
    {
      "cell_type": "markdown",
      "metadata": {
        "id": "d8L7LT6toON1"
      },
      "source": [
        "## Train\n",
        "e. Let 1 denotes real images and 0 denotes fake images. D_loss = real_loss + fake_loss. real_loss is from real images and fake_loss is from fake images that generated from genertaor. \n",
        "\n",
        "Train it for 50 epochs. You can use minibatch sizes of 16, 32, or 64. Training may take several minutes (or even up to an hour), so be patient! Display intermediate images generated after T = 10, T = 30, and T = 50 epochs. "
      ]
    },
    {
      "cell_type": "code",
      "metadata": {
        "id": "eN6LcJNoP0t5"
      },
      "source": [
        "def plot_output():\n",
        "  z_ = torch.randn((5*5, 100)).view(-1, 100, 1, 1)\n",
        "  z_ = Variable(z_.cuda(), volatile = True)\n",
        "  \n",
        "  generator.eval()\n",
        "  test_images = generator(z_)\n",
        "  generator.train()\n",
        "  \n",
        "  grid_size = 5\n",
        "  fig, ax = plt.subplots(grid_size, grid_size, figsize = (5, 5))\n",
        "  for i, j in itertools.product(range(grid_size), range(grid_size)):\n",
        "    ax[i, j].get_xaxis().set_visible(False)\n",
        "    ax[i, j].get_yaxis().set_visible(False)\n",
        "  for k in range(grid_size * grid_size):\n",
        "    i = k // grid_size\n",
        "    j = k % grid_size\n",
        "    ax[i, j].cla()\n",
        "    ax[i, j].imshow(test_images[k, 0].cpu().data.numpy(),\n",
        "                    cmap = 'gray')\n",
        "  \n",
        "  plt.show()"
      ],
      "execution_count": 11,
      "outputs": []
    },
    {
      "cell_type": "code",
      "metadata": {
        "id": "rAlw8IjvQByP"
      },
      "source": [
        ""
      ],
      "execution_count": 11,
      "outputs": []
    },
    {
      "cell_type": "code",
      "metadata": {
        "id": "YNGo0Ru1oVvT",
        "outputId": "74842cd6-232a-44dd-8d75-19f0a092768a",
        "colab": {
          "base_uri": "https://localhost:8080/",
          "height": 228
        }
      },
      "source": [
        "n_epochs = 2\n",
        "for epoch in range(n_epochs):\n",
        "  loss_D = []\n",
        "  loss_G = []\n",
        "\n",
        "  for x, _ in train_data_loader:\n",
        "    # train the discriminator\n",
        "    discriminator.zero_grad()\n",
        "    mini_batch = x.size()[0]\n",
        "    # 1 denotes real, and 0 denotes fafke\n",
        "    label_real = torch.ones(mini_batch)\n",
        "    label_fake = torch.zeros(mini_batch)\n",
        "\n",
        "    # wrap a tensor\n",
        "    x = Variable(x).cuda()\n",
        "    label_real = Variable(label_real).cuda()\n",
        "    label_fake = Variable(label_fake).cuda()\n",
        "\n",
        "    # pass real image\n",
        "    D_real = discriminator(x).squeeze()\n",
        "    D_real_loss = loss(D_real, label_real)\n",
        "\n",
        "    # generate fake image via 100 random points using generator\n",
        "    noise = torch.randn((mini_batch,100)).view(-1,100,1,1)\n",
        "    noise = Variable(noise).cuda()\n",
        "    G_fake = generator(nosie)\n",
        "\n",
        "    D_fake = discriminator(G_fake).squeeze()\n",
        "    D_fake_loss = loss(D_fake, label_fake)\n",
        "    D_total_loss = D_real_loss + D_fake_loss\n",
        "\n",
        "    D_total_loss.backward()\n",
        "    optimizerD.step()\n",
        "    loss_D.append(D_total_loss)\n",
        "\n",
        "    # train the generator, the generated image should be labeled as 1 (to fool discriminator)\n",
        "    generator.zero_grad()\n",
        "    G_real_loss = loss(D_fake, label_real)\n",
        "    G_real_loss.backward()\n",
        "    optimizerD.step()\n",
        "    loss_G.append(G_real_loss)\n",
        "  plot_output()"
      ],
      "execution_count": 12,
      "outputs": [
        {
          "output_type": "error",
          "ename": "RuntimeError",
          "evalue": "ignored",
          "traceback": [
            "\u001b[0;31m---------------------------------------------------------------------------\u001b[0m",
            "\u001b[0;31mRuntimeError\u001b[0m                              Traceback (most recent call last)",
            "\u001b[0;32m<ipython-input-12-58ec3d7d2532>\u001b[0m in \u001b[0;36m<module>\u001b[0;34m()\u001b[0m\n\u001b[1;32m     23\u001b[0m     \u001b[0;31m# generate fake image via 100 random points using generator\u001b[0m\u001b[0;34m\u001b[0m\u001b[0;34m\u001b[0m\u001b[0;34m\u001b[0m\u001b[0m\n\u001b[1;32m     24\u001b[0m     \u001b[0mnoise\u001b[0m \u001b[0;34m=\u001b[0m \u001b[0mtorch\u001b[0m\u001b[0;34m.\u001b[0m\u001b[0mrandn\u001b[0m\u001b[0;34m(\u001b[0m\u001b[0;34m(\u001b[0m\u001b[0mmini_batch\u001b[0m\u001b[0;34m,\u001b[0m\u001b[0;36m100\u001b[0m\u001b[0;34m)\u001b[0m\u001b[0;34m)\u001b[0m\u001b[0;34m.\u001b[0m\u001b[0mview\u001b[0m\u001b[0;34m(\u001b[0m\u001b[0;34m-\u001b[0m\u001b[0;36m1\u001b[0m\u001b[0;34m,\u001b[0m\u001b[0;36m100\u001b[0m\u001b[0;34m,\u001b[0m\u001b[0;36m1\u001b[0m\u001b[0;34m,\u001b[0m\u001b[0;36m1\u001b[0m\u001b[0;34m)\u001b[0m\u001b[0;34m\u001b[0m\u001b[0;34m\u001b[0m\u001b[0m\n\u001b[0;32m---> 25\u001b[0;31m     \u001b[0mnoise\u001b[0m \u001b[0;34m=\u001b[0m \u001b[0mVariable\u001b[0m\u001b[0;34m(\u001b[0m\u001b[0mnoise\u001b[0m\u001b[0;34m)\u001b[0m\u001b[0;34m.\u001b[0m\u001b[0mcuda\u001b[0m\u001b[0;34m(\u001b[0m\u001b[0;34m)\u001b[0m\u001b[0;34m\u001b[0m\u001b[0;34m\u001b[0m\u001b[0m\n\u001b[0m\u001b[1;32m     26\u001b[0m     \u001b[0mG_fake\u001b[0m \u001b[0;34m=\u001b[0m \u001b[0mgenerator\u001b[0m\u001b[0;34m(\u001b[0m\u001b[0mnosie\u001b[0m\u001b[0;34m)\u001b[0m\u001b[0;34m\u001b[0m\u001b[0;34m\u001b[0m\u001b[0m\n\u001b[1;32m     27\u001b[0m \u001b[0;34m\u001b[0m\u001b[0m\n",
            "\u001b[0;31mRuntimeError\u001b[0m: CUDA error: device-side assert triggered"
          ]
        }
      ]
    },
    {
      "cell_type": "code",
      "metadata": {
        "id": "OtjcsPKgUpXo"
      },
      "source": [
        "import os\n",
        "os.environ['CUDA_LAUNCH_BLOCKING'] = \"1\""
      ],
      "execution_count": 14,
      "outputs": []
    },
    {
      "cell_type": "code",
      "metadata": {
        "id": "hUUpVlo-UADg",
        "outputId": "a156a642-353e-42a8-91b6-35f6e733f1f0",
        "colab": {
          "base_uri": "https://localhost:8080/",
          "height": 228
        }
      },
      "source": [
        "for epoch in range(n_epochs):\n",
        "\n",
        "  D_losses = []\n",
        "  G_losses = []\n",
        "  \n",
        "  for X, _ in train_data_loader:\n",
        "    discriminator.zero_grad()\n",
        "    mini_batch = X.size()[0]\n",
        "    \n",
        "    y_real_ = torch.ones(mini_batch)\n",
        "    y_fake_ = torch.zeros(mini_batch)\n",
        "    \n",
        "    X = Variable(X.cuda())\n",
        "    y_real_ = Variable(y_real_.cuda())\n",
        "    y_fake_ = Variable(y_fake_.cuda())\n",
        "    \n",
        "    D_result = discriminator(X).squeeze()\n",
        "    D_real_loss = BCE_loss(D_result, y_real_)\n",
        "    \n",
        "    z_ = torch.randn((mini_batch, 100)).view(-1, 100, 1, 1)\n",
        "    z_ = Variable(z_.cuda())\n",
        "    G_result = generator(z_)\n",
        "    \n",
        "    D_result = discriminator(G_result).squeeze()\n",
        "    D_fake_loss = BCE_loss(D_result, y_fake_)\n",
        "    D_fake_score = D_result.data.mean()\n",
        "    D_train_loss = D_real_loss + D_fake_loss\n",
        "    \n",
        "    D_train_loss.backward()\n",
        "    D_optimizer.step()\n",
        "    D_losses.append(D_train_loss)\n",
        "    \n",
        "    generator.zero_grad()\n",
        "    \n",
        "    z_ = torch.randn((mini_batch, 100)).view(-1, 100, 1, 1)\n",
        "    z_ = Variable(z_.cuda())\n",
        "    \n",
        "    G_result = generator(z_)\n",
        "    D_result = discriminator(G_result).squeeze()\n",
        "    G_train_loss = BCE_loss(D_result, y_real_)\n",
        "    G_train_loss.backward()\n",
        "    G_optimizer.step()\n",
        "    G_losses.append(G_train_loss)\n",
        "    \n",
        "  print('Epoch {} - loss_d: {:.3f}, loss_g: {:.3f}'.format((epoch + 1),\n",
        "                                                           torch.mean(torch.FloatTensor(D_losses)),\n",
        "                                                           torch.mean(torch.FloatTensor(G_losses))))\n",
        "                                                           \n",
        "  plot_output()"
      ],
      "execution_count": 15,
      "outputs": [
        {
          "output_type": "error",
          "ename": "RuntimeError",
          "evalue": "ignored",
          "traceback": [
            "\u001b[0;31m---------------------------------------------------------------------------\u001b[0m",
            "\u001b[0;31mRuntimeError\u001b[0m                              Traceback (most recent call last)",
            "\u001b[0;32m<ipython-input-15-31e1e2e64ac6>\u001b[0m in \u001b[0;36m<module>\u001b[0;34m()\u001b[0m\n\u001b[1;32m     11\u001b[0m     \u001b[0my_fake_\u001b[0m \u001b[0;34m=\u001b[0m \u001b[0mtorch\u001b[0m\u001b[0;34m.\u001b[0m\u001b[0mzeros\u001b[0m\u001b[0;34m(\u001b[0m\u001b[0mmini_batch\u001b[0m\u001b[0;34m)\u001b[0m\u001b[0;34m\u001b[0m\u001b[0;34m\u001b[0m\u001b[0m\n\u001b[1;32m     12\u001b[0m \u001b[0;34m\u001b[0m\u001b[0m\n\u001b[0;32m---> 13\u001b[0;31m     \u001b[0mX\u001b[0m \u001b[0;34m=\u001b[0m \u001b[0mVariable\u001b[0m\u001b[0;34m(\u001b[0m\u001b[0mX\u001b[0m\u001b[0;34m.\u001b[0m\u001b[0mcuda\u001b[0m\u001b[0;34m(\u001b[0m\u001b[0;34m)\u001b[0m\u001b[0;34m)\u001b[0m\u001b[0;34m\u001b[0m\u001b[0;34m\u001b[0m\u001b[0m\n\u001b[0m\u001b[1;32m     14\u001b[0m     \u001b[0my_real_\u001b[0m \u001b[0;34m=\u001b[0m \u001b[0mVariable\u001b[0m\u001b[0;34m(\u001b[0m\u001b[0my_real_\u001b[0m\u001b[0;34m.\u001b[0m\u001b[0mcuda\u001b[0m\u001b[0;34m(\u001b[0m\u001b[0;34m)\u001b[0m\u001b[0;34m)\u001b[0m\u001b[0;34m\u001b[0m\u001b[0;34m\u001b[0m\u001b[0m\n\u001b[1;32m     15\u001b[0m     \u001b[0my_fake_\u001b[0m \u001b[0;34m=\u001b[0m \u001b[0mVariable\u001b[0m\u001b[0;34m(\u001b[0m\u001b[0my_fake_\u001b[0m\u001b[0;34m.\u001b[0m\u001b[0mcuda\u001b[0m\u001b[0;34m(\u001b[0m\u001b[0;34m)\u001b[0m\u001b[0;34m)\u001b[0m\u001b[0;34m\u001b[0m\u001b[0;34m\u001b[0m\u001b[0m\n",
            "\u001b[0;31mRuntimeError\u001b[0m: CUDA error: device-side assert triggered"
          ]
        }
      ]
    },
    {
      "cell_type": "markdown",
      "metadata": {
        "id": "4tfFHpD8oWhI"
      },
      "source": [
        "## Loss\n",
        "f. Report loss curves for both the discriminator and the generator loss over all epochs, and qualitatively comment on their behavior."
      ]
    },
    {
      "cell_type": "code",
      "metadata": {
        "id": "0xSytDIWoYdM"
      },
      "source": [
        ""
      ],
      "execution_count": null,
      "outputs": []
    },
    {
      "cell_type": "markdown",
      "metadata": {
        "id": "S_vVojZ__4Pi"
      },
      "source": [
        "## Reference\n",
        "\n",
        "https://towardsdatascience.com/build-a-fashion-mnist-cnn-pytorch-style-efb297e22582"
      ]
    }
  ]
}