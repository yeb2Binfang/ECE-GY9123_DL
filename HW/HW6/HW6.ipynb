{
  "nbformat": 4,
  "nbformat_minor": 0,
  "metadata": {
    "colab": {
      "name": "HW6.ipynb",
      "provenance": [],
      "include_colab_link": true
    },
    "kernelspec": {
      "name": "python3",
      "display_name": "Python 3"
    },
    "language_info": {
      "name": "python"
    },
    "accelerator": "GPU"
  },
  "cells": [
    {
      "cell_type": "markdown",
      "metadata": {
        "id": "view-in-github",
        "colab_type": "text"
      },
      "source": [
        "<a href=\"https://colab.research.google.com/github/yeb2Binfang/ECE-GY9123_DL/blob/main/HW/HW6/HW6.ipynb\" target=\"_parent\"><img src=\"https://colab.research.google.com/assets/colab-badge.svg\" alt=\"Open In Colab\"/></a>"
      ]
    },
    {
      "cell_type": "markdown",
      "metadata": {
        "id": "5jfvpBa9hDcb"
      },
      "source": [
        "## A simple GAN\n",
        "In this problem, the goal is to train and visualize the outputs of a simple Deep\n",
        "Convolutional GAN (DCGAN) to generate realistic-looking (but fake) images of clothing."
      ]
    },
    {
      "cell_type": "markdown",
      "metadata": {
        "id": "GYVw0aEghKQu"
      },
      "source": [
        "* a. Use the FashionMNIST training dataset to train the DCGAN. APIs for downloading it\n",
        "are available in both PyTorch and TensorFlow. Images are grayscale and size 28 × 28.\n",
        "* b. Use the following discriminator architecture (kernel size = 5 × 5 with stride = 2 in both\n",
        "directions):\n",
        "** 2D convolutions (1 × 28 × 28 → 64 × 14 × 14 → 128 × 7 × 7)\n",
        "** each convolutional layer is equipped with a Leaky ReLU with slope 0.3, followed\n",
        "by Dropout with parameter 0.3.\n",
        "** a dense layer that takes the flattened output of the last convolution and maps it to a\n",
        "scalar.\n",
        "\n",
        "Here is a [link](https://discuss.pytorch.org/t/how-to-keep-the-shape-of-input-and-output-same-when-dilation-conv/14338/3) that discusses how to appropriately choose padding and stride values in order to\n",
        "desired sizes.\n",
        "\n",
        "* c. Use the following generator architecture (which is essentially the reverse of a standard\n",
        "discriminative architecture). You can use the same kernel size. Construct:\n",
        "** a dense layer that takes a unit Gaussian noise vector of length 100 and maps it to a\n",
        "vector of size 7 ∗ 7 ∗ 256. No bias terms.\n",
        "** several transpose 2D convolutions (256 × 7 × 7 → 128 × 7 × 7 → 64 × 14 × 14 →\n",
        "1 × 28 × 28). No bias terms.\n",
        "** each convolutional layer (except the last one) is equipped with Batch Normalization\n",
        "(batch norm), followed by Leaky ReLU with slope 0.3. The last (output) layer is\n",
        "equipped with tanh activation (no batch norm).\n",
        "* d. Use the cross-entropy loss for training both the generator and the discriminator. Use the\n",
        "Adam optimizer with learning rate $10^{-4}$. \n",
        "* e. Train it for 50 epochs. You can use minibatch sizes of 16, 32, or 64. Training may take\n",
        "several minutes (or even up to an hour), so be patient! Display intermediate images\n",
        "generated after T = 10, T = 30, and T = 50 epochs. If the random seeds are fixed\n",
        "throughout then you should get results of the following quality.\n",
        "![WeChat Screenshot_20210501224441](https://user-images.githubusercontent.com/68700549/116800418-dcd71480-aace-11eb-9f80-41f4ede3ec0c.png)\n",
        "* f. Report loss curves for both the discriminator and the generator loss over all epochs, and\n",
        "qualitatively comment on their behavior."
      ]
    },
    {
      "cell_type": "markdown",
      "metadata": {
        "id": "hbiB9V0fhOuU"
      },
      "source": [
        "## Import packages"
      ]
    },
    {
      "cell_type": "code",
      "metadata": {
        "id": "8AfIYzBUUdrn"
      },
      "source": [
        "# import standard PyTorch modules\n",
        "import torch\n",
        "import torch.nn as nn\n",
        "import torch.nn.functional as F\n",
        "import torch.optim as optim\n",
        "from torch.utils.tensorboard import SummaryWriter # TensorBoard support\n",
        "\n",
        "# import torchvision module to handle image manipulation\n",
        "import torchvision\n",
        "from torchvision import datasets\n",
        "import torchvision.transforms as transforms\n",
        "from torch.autograd import Variable\n",
        "\n",
        "import numpy as np\n",
        "import pandas as pd\n",
        "import matplotlib.pyplot as plt\n",
        "%matplotlib inline\n",
        "\n",
        "from tqdm import tqdm\n",
        "from torchsummary import summary"
      ],
      "execution_count": 1,
      "outputs": []
    },
    {
      "cell_type": "markdown",
      "metadata": {
        "id": "qTOY4ilrmSoP"
      },
      "source": [
        "Move to GPU"
      ]
    },
    {
      "cell_type": "code",
      "metadata": {
        "colab": {
          "base_uri": "https://localhost:8080/"
        },
        "id": "_LcxJHd5mV6W",
        "outputId": "5405c911-787c-4e93-87e2-184e68bb88aa"
      },
      "source": [
        "device = torch.device(\"cuda:0\" if torch.cuda.is_available() else \"cpu\")\n",
        "print(device)"
      ],
      "execution_count": 2,
      "outputs": [
        {
          "output_type": "stream",
          "text": [
            "cuda:0\n"
          ],
          "name": "stdout"
        }
      ]
    },
    {
      "cell_type": "code",
      "metadata": {
        "id": "F9UBuZjgYTkk",
        "colab": {
          "base_uri": "https://localhost:8080/"
        },
        "outputId": "f1c89d8f-8308-4199-c40a-14f31a8434ba"
      },
      "source": [
        "image_size = 28\n",
        "transform = transforms.Compose([\n",
        "    transforms.Scale(image_size),\n",
        "    transforms.ToTensor(),\n",
        "])\n"
      ],
      "execution_count": 3,
      "outputs": [
        {
          "output_type": "stream",
          "text": [
            "/usr/local/lib/python3.7/dist-packages/torchvision/transforms/transforms.py:285: UserWarning: The use of the transforms.Scale transform is deprecated, please use transforms.Resize instead.\n",
            "  warnings.warn(\"The use of the transforms.Scale transform is deprecated, \" +\n"
          ],
          "name": "stderr"
        }
      ]
    },
    {
      "cell_type": "code",
      "metadata": {
        "id": "hGYhbV8ZYcoU",
        "colab": {
          "base_uri": "https://localhost:8080/"
        },
        "outputId": "fb804938-6282-43df-d22f-a91857e06e54"
      },
      "source": [
        "#torch.manual_seed(0)"
      ],
      "execution_count": null,
      "outputs": [
        {
          "output_type": "execute_result",
          "data": {
            "text/plain": [
              "<torch._C.Generator at 0x7f7a56885910>"
            ]
          },
          "metadata": {
            "tags": []
          },
          "execution_count": 4
        }
      ]
    },
    {
      "cell_type": "code",
      "metadata": {
        "id": "20v8vSqiYUMY"
      },
      "source": [
        "#transform = transforms.Compose([transforms.ToTensor(),transforms.Normalize((0.5,),(0.5,),)])"
      ],
      "execution_count": null,
      "outputs": []
    },
    {
      "cell_type": "markdown",
      "metadata": {
        "id": "Qw5Sj4RehYs4"
      },
      "source": [
        "## Load the dataset"
      ]
    },
    {
      "cell_type": "code",
      "metadata": {
        "id": "nl3Z_dhXhbFW"
      },
      "source": [
        "## Creates a series of transformation to prepare the dataset. We convert images to tensor\n",
        "\n",
        "## Load the dataset\n",
        "train_set = datasets.FashionMNIST('~/.pytorch/F_MNIST_data', download=True, train=True, transform=transform)\n",
        "test_set = datasets.FashionMNIST('~/.pytorch/F_MNIST_data', download=True, train=False, transform=transform)\n",
        "\n",
        "## Data Loader\n",
        "train_data_loader = torch.utils.data.DataLoader(train_set, batch_size=16, shuffle=True)\n",
        "test_data_loader = torch.utils.data.DataLoader(test_set, batch_size=16, shuffle=True)\n"
      ],
      "execution_count": 4,
      "outputs": []
    },
    {
      "cell_type": "markdown",
      "metadata": {
        "id": "HgmEGd0_hjTq"
      },
      "source": [
        "### Explore the dataset\n",
        "We have 60,000 data  for training and 10,000 data for testing"
      ]
    },
    {
      "cell_type": "code",
      "metadata": {
        "colab": {
          "base_uri": "https://localhost:8080/"
        },
        "id": "T1FegDR1UplG",
        "outputId": "71b83235-245c-4d50-e545-0adbc10ffde6"
      },
      "source": [
        "print(train_set)"
      ],
      "execution_count": null,
      "outputs": [
        {
          "output_type": "stream",
          "text": [
            "Dataset FashionMNIST\n",
            "    Number of datapoints: 60000\n",
            "    Root location: /root/.pytorch/F_MNIST_data\n",
            "    Split: Train\n",
            "    StandardTransform\n",
            "Transform: Compose(\n",
            "               ToTensor()\n",
            "               Normalize(mean=(0.5,), std=(0.5,))\n",
            "           )\n"
          ],
          "name": "stdout"
        }
      ]
    },
    {
      "cell_type": "code",
      "metadata": {
        "colab": {
          "base_uri": "https://localhost:8080/"
        },
        "id": "_EVTAi-QWnUb",
        "outputId": "8f1b6f57-0fb0-41a7-c100-ce20453e9bed"
      },
      "source": [
        "print(test_set)"
      ],
      "execution_count": null,
      "outputs": [
        {
          "output_type": "stream",
          "text": [
            "Dataset FashionMNIST\n",
            "    Number of datapoints: 10000\n",
            "    Root location: /root/.pytorch/F_MNIST_data\n",
            "    Split: Test\n",
            "    StandardTransform\n",
            "Transform: Compose(\n",
            "               ToTensor()\n",
            "               Normalize(mean=(0.5,), std=(0.5,))\n",
            "           )\n"
          ],
          "name": "stdout"
        }
      ]
    },
    {
      "cell_type": "markdown",
      "metadata": {
        "id": "bR_c0zU2mcQj"
      },
      "source": [
        "### Visualize the image"
      ]
    },
    {
      "cell_type": "code",
      "metadata": {
        "colab": {
          "base_uri": "https://localhost:8080/"
        },
        "id": "RBzFBk1-mfA9",
        "outputId": "4ec51bd0-3fc8-4438-f875-73e2dbe12305"
      },
      "source": [
        "dataiter = iter(train_data_loader)\n",
        "images, labels = dataiter.next()\n",
        "print(type(images))\n",
        "print(images.shape)\n",
        "print(labels.shape)"
      ],
      "execution_count": null,
      "outputs": [
        {
          "output_type": "stream",
          "text": [
            "<class 'torch.Tensor'>\n",
            "torch.Size([64, 1, 28, 28])\n",
            "torch.Size([64])\n"
          ],
          "name": "stdout"
        }
      ]
    },
    {
      "cell_type": "code",
      "metadata": {
        "colab": {
          "base_uri": "https://localhost:8080/",
          "height": 337
        },
        "id": "J-AmeZQgmhkm",
        "outputId": "2e484045-c7e5-492c-e4d8-4dcbc6669705"
      },
      "source": [
        "rand_index = np.random.randint(0,64)\n",
        "fig = plt.figure(figsize=(15,5))\n",
        "plt.imshow(images[rand_index].reshape((28,28)),cmap='gray')\n",
        "print(\"the label is: \"+ str(int(labels[rand_index])))"
      ],
      "execution_count": null,
      "outputs": [
        {
          "output_type": "stream",
          "text": [
            "the label is: 6\n"
          ],
          "name": "stdout"
        },
        {
          "output_type": "display_data",
          "data": {
            "image/png": "[encoded data removed]",
            "text/plain": [
              "<Figure size 1080x360 with 1 Axes>"
            ]
          },
          "metadata": {
            "tags": [],
            "needs_background": "light"
          }
        }
      ]
    },
    {
      "cell_type": "markdown",
      "metadata": {
        "id": "ARAMhVh2hqEX"
      },
      "source": [
        "## Build discriminator architecture\n",
        "\n",
        "kernel size = 5 × 5 with stride = 2 in both\n",
        "directions:\n",
        "\n",
        "* 2D convolutions (1 × 28 × 28 → 64 × 14 × 14 → 128 × 7 × 7)\n",
        "* each convolutional layer is equipped with a Leaky ReLU with slope 0.3, followed\n",
        "by Dropout with parameter 0.3.\n",
        "* a dense layer that takes the flattened output of the last convolution and maps it to a\n",
        "scalar.\n"
      ]
    },
    {
      "cell_type": "code",
      "metadata": {
        "id": "-n3XaiVj4LwH"
      },
      "source": [
        "class discriminator_model(nn.Module):\n",
        "\n",
        "  def __init__(self):\n",
        "    super(discriminator_model, self).__init__()\n",
        "    self.conv1 = nn.Conv2d(1,64,5,2,2)\n",
        "    self.conv2 = nn.Conv2d(64,128,5,2,2)\n",
        "    self.dense = nn.Linear(128*7*7,1)\n",
        " \n",
        "  def weight_init(self):\n",
        "    for m in self._modules:\n",
        "      normal_init(self._modules[m])\n",
        "      \n",
        "  def forward(self, input):\n",
        "    x = F.dropout(F.leaky_relu(self.conv1(input),0.3),0.3)\n",
        "    x = F.dropout(F.leaky_relu(self.conv2(x),0.3),0.3)\n",
        "    x = x.view(-1,128*7*7)\n",
        "    x = torch.sigmoid(self.dense(x))\n",
        "    return x"
      ],
      "execution_count": 5,
      "outputs": []
    },
    {
      "cell_type": "markdown",
      "metadata": {
        "id": "y9owKKTgml_6"
      },
      "source": [
        "### Test it\n",
        "Make sure the architecture is right"
      ]
    },
    {
      "cell_type": "code",
      "metadata": {
        "colab": {
          "base_uri": "https://localhost:8080/"
        },
        "id": "1uY1tIkemrpm",
        "outputId": "c99bb5ec-a5d1-4ba7-b466-44d256911bd3"
      },
      "source": [
        "discriminator = discriminator_model().to(device)\n",
        "summary(discriminator,(1,28,28))"
      ],
      "execution_count": null,
      "outputs": [
        {
          "output_type": "stream",
          "text": [
            "----------------------------------------------------------------\n",
            "        Layer (type)               Output Shape         Param #\n",
            "================================================================\n",
            "            Conv2d-1           [-1, 64, 14, 14]           1,664\n",
            "         LeakyReLU-2           [-1, 64, 14, 14]               0\n",
            "           Dropout-3           [-1, 64, 14, 14]               0\n",
            "            Conv2d-4            [-1, 128, 7, 7]         204,928\n",
            "         LeakyReLU-5            [-1, 128, 7, 7]               0\n",
            "           Dropout-6            [-1, 128, 7, 7]               0\n",
            "           Flatten-7                 [-1, 6272]               0\n",
            "            Linear-8                    [-1, 1]           6,273\n",
            "           Sigmoid-9                    [-1, 1]               0\n",
            "================================================================\n",
            "Total params: 212,865\n",
            "Trainable params: 212,865\n",
            "Non-trainable params: 0\n",
            "----------------------------------------------------------------\n",
            "Input size (MB): 0.00\n",
            "Forward/backward pass size (MB): 0.48\n",
            "Params size (MB): 0.81\n",
            "Estimated Total Size (MB): 1.29\n",
            "----------------------------------------------------------------\n"
          ],
          "name": "stdout"
        }
      ]
    },
    {
      "cell_type": "markdown",
      "metadata": {
        "id": "HXtuWGwjh1PJ"
      },
      "source": [
        "## Build generator\n",
        "\n",
        "* c. Use the following generator architecture (which is essentially the reverse of a standard\n",
        "discriminative architecture). You can use the same kernel size. Construct:\n",
        "** a dense layer that takes a unit Gaussian noise vector of length 100 (This means initial input.) and maps it to a\n",
        "vector of size 7 ∗ 7 ∗ 256.  No bias terms.\n",
        "** several transpose 2D convolutions (256 × 7 × 7 → 128 × 7 × 7 → 64 × 14 × 14 →\n",
        "1 × 28 × 28). No bias terms.\n",
        "** each convolutional layer (except the last one) is equipped with Batch Normalization\n",
        "(batch norm), followed by Leaky ReLU with slope 0.3. The last (output) layer is\n",
        "equipped with tanh activation (no batch norm)."
      ]
    },
    {
      "cell_type": "code",
      "metadata": {
        "id": "ZD3ljuGL1EZr"
      },
      "source": [
        "class generator_model(nn.Module):\n",
        "\n",
        "  def __init__(self):\n",
        "    super(generator_model, self).__init__()\n",
        "    self.dense = nn.Linear(100, 7*7*256, bias=False)\n",
        "    self.deconv1 = nn.ConvTranspose2d(256,128,5,1,2,bias=False)\n",
        "    self.deconv2 = nn.ConvTranspose2d(128,64,5,2,2,1,bias=False)\n",
        "    self.deconv3 = nn.ConvTranspose2d(64,1,5,2,2,1,bias=False)\n",
        "    self.bn1 = nn.BatchNorm2d(256)\n",
        "    self.bn2 = nn.BatchNorm2d(128)\n",
        "    self.bn3 = nn.BatchNorm2d(64)\n",
        "    \n",
        "  def weight_init(self):\n",
        "    for m in self._modules:\n",
        "      normal_init(self._modules[m])\n",
        "      \n",
        "  def forward(self, input):\n",
        "    x = self.dense(input).view(-1,256,7,7)\n",
        "    x = F.leaky_relu(self.bn1(x),0.3)\n",
        "    x = F.leaky_relu(self.bn2(self.deconv1(x)),0.3)\n",
        "    x = F.leaky_relu(self.bn3(self.deconv2(x)),0.3)\n",
        "    x = torch.tanh(self.deconv3(x))\n",
        "    return x"
      ],
      "execution_count": 6,
      "outputs": []
    },
    {
      "cell_type": "markdown",
      "metadata": {
        "id": "Tz54dCOKmwIc"
      },
      "source": [
        "### Test it\n",
        "Make sure the architeuture is right"
      ]
    },
    {
      "cell_type": "code",
      "metadata": {
        "colab": {
          "base_uri": "https://localhost:8080/"
        },
        "id": "h8yCIURxm2f1",
        "outputId": "6977d319-1110-4406-d14c-a6546e99a71a"
      },
      "source": [
        "generator = generator_model().to(device)\n",
        "summary(generator,(1,100))"
      ],
      "execution_count": null,
      "outputs": [
        {
          "output_type": "stream",
          "text": [
            "----------------------------------------------------------------\n",
            "        Layer (type)               Output Shape         Param #\n",
            "================================================================\n",
            "   ConvTranspose2d-1            [-1, 256, 7, 7]       1,254,400\n",
            "       BatchNorm2d-2            [-1, 256, 7, 7]             512\n",
            "         LeakyReLU-3            [-1, 256, 7, 7]               0\n",
            "   ConvTranspose2d-4            [-1, 128, 7, 7]         819,200\n",
            "       BatchNorm2d-5            [-1, 128, 7, 7]             256\n",
            "         LeakyReLU-6            [-1, 128, 7, 7]               0\n",
            "   ConvTranspose2d-7           [-1, 64, 14, 14]         294,912\n",
            "       BatchNorm2d-8           [-1, 64, 14, 14]             128\n",
            "         LeakyReLU-9           [-1, 64, 14, 14]               0\n",
            "  ConvTranspose2d-10            [-1, 1, 28, 28]           2,304\n",
            "             Tanh-11            [-1, 1, 28, 28]               0\n",
            "================================================================\n",
            "Total params: 2,371,712\n",
            "Trainable params: 2,371,712\n",
            "Non-trainable params: 0\n",
            "----------------------------------------------------------------\n",
            "Input size (MB): 0.00\n",
            "Forward/backward pass size (MB): 0.73\n",
            "Params size (MB): 9.05\n",
            "Estimated Total Size (MB): 9.78\n",
            "----------------------------------------------------------------\n"
          ],
          "name": "stdout"
        }
      ]
    },
    {
      "cell_type": "markdown",
      "metadata": {
        "id": "9ObunMMkm5D9"
      },
      "source": [
        "## Initialize the weight "
      ]
    },
    {
      "cell_type": "code",
      "metadata": {
        "id": "Fdy7nICih_A8"
      },
      "source": [
        "def normal_init(m):\n",
        "  if isinstance(m, nn.ConvTranspose2d) or isinstance(m, nn.Conv2d):\n",
        "    m.weight.data.normal_(0.0, 0.02)\n",
        "    #m.bias.data.zero_()"
      ],
      "execution_count": 7,
      "outputs": []
    },
    {
      "cell_type": "code",
      "metadata": {
        "id": "iY3eZbNXU2NL"
      },
      "source": [
        "generator = generator_model().to(device)\n",
        "discriminator = discriminator_model().to(device)\n",
        "generator.weight_init()\n",
        "discriminator.weight_init()"
      ],
      "execution_count": 8,
      "outputs": []
    },
    {
      "cell_type": "markdown",
      "metadata": {
        "id": "gKJkJjR8nH-i"
      },
      "source": [
        "## Try generator\n",
        "Make sure the generator works"
      ]
    },
    {
      "cell_type": "code",
      "metadata": {
        "id": "zlnrE0hYnM9T"
      },
      "source": [
        "latent = torch.randn((1, 100))\n",
        "latent = latent.to(device)"
      ],
      "execution_count": null,
      "outputs": []
    },
    {
      "cell_type": "code",
      "metadata": {
        "id": "RWYfw_psnQY7"
      },
      "source": [
        "im = generator(latent)"
      ],
      "execution_count": null,
      "outputs": []
    },
    {
      "cell_type": "code",
      "metadata": {
        "colab": {
          "base_uri": "https://localhost:8080/",
          "height": 281
        },
        "id": "dBkwQbggnSDU",
        "outputId": "15d85bf1-7413-4032-e687-5c268f1f2acb"
      },
      "source": [
        "plt.imshow(im[0, 0, :, :].detach().cpu(),cmap='gray')"
      ],
      "execution_count": null,
      "outputs": [
        {
          "output_type": "execute_result",
          "data": {
            "text/plain": [
              "<matplotlib.image.AxesImage at 0x7f4ea92f3810>"
            ]
          },
          "metadata": {
            "tags": []
          },
          "execution_count": 12
        },
        {
          "output_type": "display_data",
          "data": {
            "image/png": "[encoded data removed]",
            "text/plain": [
              "<Figure size 432x288 with 1 Axes>"
            ]
          },
          "metadata": {
            "tags": [],
            "needs_background": "light"
          }
        }
      ]
    },
    {
      "cell_type": "markdown",
      "metadata": {
        "id": "AnT4gm-SiFdL"
      },
      "source": [
        "## Loss and optimizers\n",
        "\n",
        "Use the cross-entropy loss for training both the generator and the discriminator. Use the\n",
        "Adam optimizer with learning rate $10^{-4}$."
      ]
    },
    {
      "cell_type": "code",
      "metadata": {
        "id": "OFkCn39hjMG2"
      },
      "source": [
        "learning_rate = 1e-4"
      ],
      "execution_count": 9,
      "outputs": []
    },
    {
      "cell_type": "code",
      "metadata": {
        "id": "IZaiTahCVAID"
      },
      "source": [
        "loss = nn.BCELoss()"
      ],
      "execution_count": 10,
      "outputs": []
    },
    {
      "cell_type": "code",
      "metadata": {
        "id": "m7vV9zwuVDA3"
      },
      "source": [
        "optimizerD = optim.Adam(discriminator.parameters(), lr=learning_rate, betas=(0.5, 0.999))\n",
        "optimizerG = optim.Adam(generator.parameters(), lr=learning_rate, betas=(0.5, 0.999))"
      ],
      "execution_count": 11,
      "outputs": []
    },
    {
      "cell_type": "markdown",
      "metadata": {
        "id": "0CtnGQv9oD2k"
      },
      "source": [
        "## Plot"
      ]
    },
    {
      "cell_type": "code",
      "metadata": {
        "id": "cMFHMeRXfgwD"
      },
      "source": [
        "def plot_graph():\n",
        "  fig = plt.figure(figsize=(4,4))\n",
        "  for i in range(16):  \n",
        "    latent = torch.randn((1, 100))\n",
        "    latent = latent.to(device) \n",
        "    im = generator(latent)\n",
        "    plt.subplot(4, 4, i+1)\n",
        "    plt.imshow(im[0, 0, :, :].detach().cpu(),cmap='gray')\n",
        "    plt.axis('off')\n",
        "  plt.show()\n",
        "  print(\"\\n\")"
      ],
      "execution_count": 12,
      "outputs": []
    },
    {
      "cell_type": "markdown",
      "metadata": {
        "id": "F4QEb2XooA4y"
      },
      "source": [
        "## Train the data\n",
        "e. Let 1 denotes real images and 0 denotes fake images. D_loss = real_loss + fake_loss. real_loss is from real images and fake_loss is from fake images that generated from genertaor. \n",
        "\n",
        "Train it for 50 epochs. You can use minibatch sizes of 16, 32, or 64. Training may take several minutes (or even up to an hour), so be patient! Display intermediate images generated after T = 10, T = 30, and T = 50 epochs. "
      ]
    },
    {
      "cell_type": "code",
      "metadata": {
        "id": "SQJD66w8ogbm"
      },
      "source": [
        "n_epochs = 45"
      ],
      "execution_count": 13,
      "outputs": []
    },
    {
      "cell_type": "code",
      "metadata": {
        "colab": {
          "base_uri": "https://localhost:8080/",
          "height": 1000
        },
        "id": "dahzgw0AVHjz",
        "outputId": "157fbbe9-025f-48db-9292-7ccfc56af364"
      },
      "source": [
        "loss_G_overepoch = []\n",
        "loss_D_overepoch = []\n",
        "D_losses_overall = []\n",
        "G_losses_overall = []\n",
        "for epoch in tqdm(range(n_epochs)):\n",
        "\n",
        "  loss_g = []\n",
        "  loss_d = [] \n",
        "  for data, _ in train_data_loader:\n",
        "    discriminator.zero_grad()\n",
        "    mini_batch = data.size()[0]\n",
        "    \n",
        "    label_real = torch.ones(mini_batch)\n",
        "    label_fake = torch.zeros(mini_batch)\n",
        "    \n",
        "    data = Variable(data).to(device)\n",
        "\n",
        "    label_real = Variable(label_real).to(device)\n",
        "    label_fake = Variable(label_fake).to(device)\n",
        "    \n",
        "    D_result = discriminator(data).squeeze()\n",
        "    D_real_loss = loss(D_result, label_real)\n",
        "    \n",
        "    z = torch.randn((mini_batch, 100))\n",
        "    z = Variable(z).to(device)\n",
        "    G_result = generator(z)\n",
        "    \n",
        "    D_result = discriminator(G_result).squeeze()\n",
        "    D_fake_loss = loss(D_result, label_fake)\n",
        "    D_total_loss = D_real_loss + D_fake_loss\n",
        "    # D_total_loss = Variable(D_total_loss).to(device)\n",
        "    #D_total_loss = Variable(D_total_loss,requires_grad=True)\n",
        "\n",
        "\n",
        "    D_total_loss.backward()\n",
        "    optimizerD.step()\n",
        "    loss_d.append(D_total_loss)\n",
        "    D_losses_overall.append(D_total_loss)\n",
        "    generator.zero_grad()\n",
        "    \n",
        "    z = torch.randn((mini_batch, 100))\n",
        "    z = Variable(z).to(device)\n",
        "    \n",
        "    G_result = generator(z)\n",
        "    D_result = discriminator(G_result).squeeze()\n",
        "    G_train_loss = loss(D_result, label_real)\n",
        "    #G_train_loss = Variable(G_train_loss).to(device)\n",
        "    #G_train_loss = Variable(G_train_loss,requires_grad=True)\n",
        "    G_train_loss.backward()\n",
        "    optimizerG.step()\n",
        "    loss_g.append(G_train_loss)\n",
        "    G_losses_overall.append(G_train_loss)\n",
        "    torch.cuda.empty_cache() \n",
        "\n",
        "  loss_G_overepoch.append(torch.mean(torch.FloatTensor(loss_g)))\n",
        "  loss_D_overepoch.append(torch.mean(torch.FloatTensor(loss_d)))   \n",
        "  print('Epoch {} - loss_d: {:.3f}, loss_g: {:.3f}'.format((epoch + 1),\n",
        "                                                          torch.mean(torch.FloatTensor(loss_d)),\n",
        "                                                          torch.mean(torch.FloatTensor(loss_g))))\n",
        "\n",
        "  if epoch in [9,29,44]:                                                        \n",
        "    plot_graph()"
      ],
      "execution_count": 14,
      "outputs": [
        {
          "output_type": "stream",
          "text": [
            "  2%|▏         | 1/45 [01:08<50:07, 68.36s/it]"
          ],
          "name": "stderr"
        },
        {
          "output_type": "stream",
          "text": [
            "Epoch 1 - loss_d: 1.235, loss_g: 0.843\n"
          ],
          "name": "stdout"
        },
        {
          "output_type": "stream",
          "text": [
            "\r  4%|▍         | 2/45 [02:16<48:57, 68.31s/it]"
          ],
          "name": "stderr"
        },
        {
          "output_type": "stream",
          "text": [
            "Epoch 2 - loss_d: 1.081, loss_g: 1.061\n"
          ],
          "name": "stdout"
        },
        {
          "output_type": "stream",
          "text": [
            "\r  7%|▋         | 3/45 [03:24<47:44, 68.20s/it]"
          ],
          "name": "stderr"
        },
        {
          "output_type": "stream",
          "text": [
            "Epoch 3 - loss_d: 1.054, loss_g: 1.118\n"
          ],
          "name": "stdout"
        },
        {
          "output_type": "stream",
          "text": [
            "\r  9%|▉         | 4/45 [04:33<46:40, 68.32s/it]"
          ],
          "name": "stderr"
        },
        {
          "output_type": "stream",
          "text": [
            "Epoch 4 - loss_d: 0.998, loss_g: 1.196\n"
          ],
          "name": "stdout"
        },
        {
          "output_type": "stream",
          "text": [
            "\r 11%|█         | 5/45 [05:41<45:34, 68.36s/it]"
          ],
          "name": "stderr"
        },
        {
          "output_type": "stream",
          "text": [
            "Epoch 5 - loss_d: 0.951, loss_g: 1.288\n"
          ],
          "name": "stdout"
        },
        {
          "output_type": "stream",
          "text": [
            "\r 13%|█▎        | 6/45 [06:48<44:06, 67.85s/it]"
          ],
          "name": "stderr"
        },
        {
          "output_type": "stream",
          "text": [
            "Epoch 6 - loss_d: 0.900, loss_g: 1.364\n"
          ],
          "name": "stdout"
        },
        {
          "output_type": "stream",
          "text": [
            "\r 16%|█▌        | 7/45 [07:55<42:46, 67.54s/it]"
          ],
          "name": "stderr"
        },
        {
          "output_type": "stream",
          "text": [
            "Epoch 7 - loss_d: 0.866, loss_g: 1.440\n"
          ],
          "name": "stdout"
        },
        {
          "output_type": "stream",
          "text": [
            "\r 18%|█▊        | 8/45 [09:02<41:41, 67.61s/it]"
          ],
          "name": "stderr"
        },
        {
          "output_type": "stream",
          "text": [
            "Epoch 8 - loss_d: 0.831, loss_g: 1.508\n"
          ],
          "name": "stdout"
        },
        {
          "output_type": "stream",
          "text": [
            "\r 20%|██        | 9/45 [10:09<40:27, 67.44s/it]"
          ],
          "name": "stderr"
        },
        {
          "output_type": "stream",
          "text": [
            "Epoch 9 - loss_d: 0.791, loss_g: 1.595\n",
            "Epoch 10 - loss_d: 0.767, loss_g: 1.659\n"
          ],
          "name": "stdout"
        },
        {
          "output_type": "display_data",
          "data": {
            "image/png": "[encoded data removed]",
            "text/plain": [
              "<Figure size 288x288 with 16 Axes>"
            ]
          },
          "metadata": {
            "tags": [],
            "needs_background": "light"
          }
        },
        {
          "output_type": "stream",
          "text": [
            "\r 22%|██▏       | 10/45 [11:16<39:16, 67.34s/it]"
          ],
          "name": "stderr"
        },
        {
          "output_type": "stream",
          "text": [
            "\n",
            "\n"
          ],
          "name": "stdout"
        },
        {
          "output_type": "stream",
          "text": [
            "\r 24%|██▍       | 11/45 [12:24<38:13, 67.47s/it]"
          ],
          "name": "stderr"
        },
        {
          "output_type": "stream",
          "text": [
            "Epoch 11 - loss_d: 0.737, loss_g: 1.742\n"
          ],
          "name": "stdout"
        },
        {
          "output_type": "stream",
          "text": [
            "\r 27%|██▋       | 12/45 [13:34<37:28, 68.12s/it]"
          ],
          "name": "stderr"
        },
        {
          "output_type": "stream",
          "text": [
            "Epoch 12 - loss_d: 0.708, loss_g: 1.808\n"
          ],
          "name": "stdout"
        },
        {
          "output_type": "stream",
          "text": [
            "\r 29%|██▉       | 13/45 [14:44<36:41, 68.80s/it]"
          ],
          "name": "stderr"
        },
        {
          "output_type": "stream",
          "text": [
            "Epoch 13 - loss_d: 0.683, loss_g: 1.868\n"
          ],
          "name": "stdout"
        },
        {
          "output_type": "stream",
          "text": [
            "\r 31%|███       | 14/45 [15:50<35:09, 68.04s/it]"
          ],
          "name": "stderr"
        },
        {
          "output_type": "stream",
          "text": [
            "Epoch 14 - loss_d: 0.662, loss_g: 1.935\n"
          ],
          "name": "stdout"
        },
        {
          "output_type": "stream",
          "text": [
            "\r 33%|███▎      | 15/45 [16:58<33:59, 67.97s/it]"
          ],
          "name": "stderr"
        },
        {
          "output_type": "stream",
          "text": [
            "Epoch 15 - loss_d: 0.648, loss_g: 1.983\n"
          ],
          "name": "stdout"
        },
        {
          "output_type": "stream",
          "text": [
            "\r 36%|███▌      | 16/45 [18:05<32:38, 67.53s/it]"
          ],
          "name": "stderr"
        },
        {
          "output_type": "stream",
          "text": [
            "Epoch 16 - loss_d: 0.638, loss_g: 2.038\n"
          ],
          "name": "stdout"
        },
        {
          "output_type": "stream",
          "text": [
            "\r 38%|███▊      | 17/45 [19:12<31:26, 67.39s/it]"
          ],
          "name": "stderr"
        },
        {
          "output_type": "stream",
          "text": [
            "Epoch 17 - loss_d: 0.624, loss_g: 2.053\n"
          ],
          "name": "stdout"
        },
        {
          "output_type": "stream",
          "text": [
            "\r 40%|████      | 18/45 [20:19<30:13, 67.19s/it]"
          ],
          "name": "stderr"
        },
        {
          "output_type": "stream",
          "text": [
            "Epoch 18 - loss_d: 0.618, loss_g: 2.095\n"
          ],
          "name": "stdout"
        },
        {
          "output_type": "stream",
          "text": [
            "\r 42%|████▏     | 19/45 [21:25<29:04, 67.08s/it]"
          ],
          "name": "stderr"
        },
        {
          "output_type": "stream",
          "text": [
            "Epoch 19 - loss_d: 0.603, loss_g: 2.130\n"
          ],
          "name": "stdout"
        },
        {
          "output_type": "stream",
          "text": [
            "\r 44%|████▍     | 20/45 [22:33<28:01, 67.26s/it]"
          ],
          "name": "stderr"
        },
        {
          "output_type": "stream",
          "text": [
            "Epoch 20 - loss_d: 0.594, loss_g: 2.169\n"
          ],
          "name": "stdout"
        },
        {
          "output_type": "stream",
          "text": [
            "\r 47%|████▋     | 21/45 [23:40<26:53, 67.22s/it]"
          ],
          "name": "stderr"
        },
        {
          "output_type": "stream",
          "text": [
            "Epoch 21 - loss_d: 0.587, loss_g: 2.183\n"
          ],
          "name": "stdout"
        },
        {
          "output_type": "stream",
          "text": [
            "\r 49%|████▉     | 22/45 [24:48<25:48, 67.33s/it]"
          ],
          "name": "stderr"
        },
        {
          "output_type": "stream",
          "text": [
            "Epoch 22 - loss_d: 0.583, loss_g: 2.234\n"
          ],
          "name": "stdout"
        },
        {
          "output_type": "stream",
          "text": [
            "\r 51%|█████     | 23/45 [25:55<24:40, 67.31s/it]"
          ],
          "name": "stderr"
        },
        {
          "output_type": "stream",
          "text": [
            "Epoch 23 - loss_d: 0.570, loss_g: 2.246\n"
          ],
          "name": "stdout"
        },
        {
          "output_type": "stream",
          "text": [
            "\r 53%|█████▎    | 24/45 [27:02<23:30, 67.18s/it]"
          ],
          "name": "stderr"
        },
        {
          "output_type": "stream",
          "text": [
            "Epoch 24 - loss_d: 0.572, loss_g: 2.268\n"
          ],
          "name": "stdout"
        },
        {
          "output_type": "stream",
          "text": [
            "\r 56%|█████▌    | 25/45 [28:09<22:21, 67.05s/it]"
          ],
          "name": "stderr"
        },
        {
          "output_type": "stream",
          "text": [
            "Epoch 25 - loss_d: 0.570, loss_g: 2.297\n"
          ],
          "name": "stdout"
        },
        {
          "output_type": "stream",
          "text": [
            "\r 58%|█████▊    | 26/45 [29:16<21:13, 67.05s/it]"
          ],
          "name": "stderr"
        },
        {
          "output_type": "stream",
          "text": [
            "Epoch 26 - loss_d: 0.564, loss_g: 2.320\n"
          ],
          "name": "stdout"
        },
        {
          "output_type": "stream",
          "text": [
            "\r 60%|██████    | 27/45 [30:23<20:10, 67.23s/it]"
          ],
          "name": "stderr"
        },
        {
          "output_type": "stream",
          "text": [
            "Epoch 27 - loss_d: 0.563, loss_g: 2.334\n"
          ],
          "name": "stdout"
        },
        {
          "output_type": "stream",
          "text": [
            "\r 62%|██████▏   | 28/45 [31:30<18:57, 66.94s/it]"
          ],
          "name": "stderr"
        },
        {
          "output_type": "stream",
          "text": [
            "Epoch 28 - loss_d: 0.565, loss_g: 2.321\n"
          ],
          "name": "stdout"
        },
        {
          "output_type": "stream",
          "text": [
            "\r 64%|██████▍   | 29/45 [32:36<17:49, 66.84s/it]"
          ],
          "name": "stderr"
        },
        {
          "output_type": "stream",
          "text": [
            "Epoch 29 - loss_d: 0.565, loss_g: 2.341\n",
            "Epoch 30 - loss_d: 0.564, loss_g: 2.348\n"
          ],
          "name": "stdout"
        },
        {
          "output_type": "display_data",
          "data": {
            "image/png": "[encoded data removed]",
            "text/plain": [
              "<Figure size 288x288 with 16 Axes>"
            ]
          },
          "metadata": {
            "tags": [],
            "needs_background": "light"
          }
        },
        {
          "output_type": "stream",
          "text": [
            "\r 67%|██████▋   | 30/45 [33:44<16:47, 67.20s/it]"
          ],
          "name": "stderr"
        },
        {
          "output_type": "stream",
          "text": [
            "\n",
            "\n"
          ],
          "name": "stdout"
        },
        {
          "output_type": "stream",
          "text": [
            "\r 69%|██████▉   | 31/45 [34:51<15:40, 67.19s/it]"
          ],
          "name": "stderr"
        },
        {
          "output_type": "stream",
          "text": [
            "Epoch 31 - loss_d: 0.569, loss_g: 2.364\n"
          ],
          "name": "stdout"
        },
        {
          "output_type": "stream",
          "text": [
            "\r 71%|███████   | 32/45 [35:58<14:32, 67.12s/it]"
          ],
          "name": "stderr"
        },
        {
          "output_type": "stream",
          "text": [
            "Epoch 32 - loss_d: 0.567, loss_g: 2.373\n"
          ],
          "name": "stdout"
        },
        {
          "output_type": "stream",
          "text": [
            "\r 73%|███████▎  | 33/45 [37:07<13:30, 67.54s/it]"
          ],
          "name": "stderr"
        },
        {
          "output_type": "stream",
          "text": [
            "Epoch 33 - loss_d: 0.566, loss_g: 2.380\n"
          ],
          "name": "stdout"
        },
        {
          "output_type": "stream",
          "text": [
            "\r 76%|███████▌  | 34/45 [38:14<12:19, 67.25s/it]"
          ],
          "name": "stderr"
        },
        {
          "output_type": "stream",
          "text": [
            "Epoch 34 - loss_d: 0.567, loss_g: 2.370\n"
          ],
          "name": "stdout"
        },
        {
          "output_type": "stream",
          "text": [
            "\r 78%|███████▊  | 35/45 [39:21<11:12, 67.29s/it]"
          ],
          "name": "stderr"
        },
        {
          "output_type": "stream",
          "text": [
            "Epoch 35 - loss_d: 0.559, loss_g: 2.375\n"
          ],
          "name": "stdout"
        },
        {
          "output_type": "stream",
          "text": [
            "\r 80%|████████  | 36/45 [40:29<10:08, 67.60s/it]"
          ],
          "name": "stderr"
        },
        {
          "output_type": "stream",
          "text": [
            "Epoch 36 - loss_d: 0.564, loss_g: 2.378\n"
          ],
          "name": "stdout"
        },
        {
          "output_type": "stream",
          "text": [
            "\r 82%|████████▏ | 37/45 [41:38<09:04, 68.05s/it]"
          ],
          "name": "stderr"
        },
        {
          "output_type": "stream",
          "text": [
            "Epoch 37 - loss_d: 0.563, loss_g: 2.389\n"
          ],
          "name": "stdout"
        },
        {
          "output_type": "stream",
          "text": [
            "\r 84%|████████▍ | 38/45 [42:48<07:59, 68.45s/it]"
          ],
          "name": "stderr"
        },
        {
          "output_type": "stream",
          "text": [
            "Epoch 38 - loss_d: 0.563, loss_g: 2.402\n"
          ],
          "name": "stdout"
        },
        {
          "output_type": "stream",
          "text": [
            "\r 87%|████████▋ | 39/45 [43:55<06:47, 67.96s/it]"
          ],
          "name": "stderr"
        },
        {
          "output_type": "stream",
          "text": [
            "Epoch 39 - loss_d: 0.563, loss_g: 2.400\n"
          ],
          "name": "stdout"
        },
        {
          "output_type": "stream",
          "text": [
            "\r 89%|████████▉ | 40/45 [45:01<05:37, 67.44s/it]"
          ],
          "name": "stderr"
        },
        {
          "output_type": "stream",
          "text": [
            "Epoch 40 - loss_d: 0.563, loss_g: 2.406\n"
          ],
          "name": "stdout"
        },
        {
          "output_type": "stream",
          "text": [
            "\r 91%|█████████ | 41/45 [46:08<04:29, 67.29s/it]"
          ],
          "name": "stderr"
        },
        {
          "output_type": "stream",
          "text": [
            "Epoch 41 - loss_d: 0.565, loss_g: 2.415\n"
          ],
          "name": "stdout"
        },
        {
          "output_type": "stream",
          "text": [
            "\r 93%|█████████▎| 42/45 [47:14<03:21, 67.08s/it]"
          ],
          "name": "stderr"
        },
        {
          "output_type": "stream",
          "text": [
            "Epoch 42 - loss_d: 0.558, loss_g: 2.406\n"
          ],
          "name": "stdout"
        },
        {
          "output_type": "stream",
          "text": [
            "\r 96%|█████████▌| 43/45 [48:22<02:14, 67.14s/it]"
          ],
          "name": "stderr"
        },
        {
          "output_type": "stream",
          "text": [
            "Epoch 43 - loss_d: 0.561, loss_g: 2.416\n"
          ],
          "name": "stdout"
        },
        {
          "output_type": "stream",
          "text": [
            "\r 98%|█████████▊| 44/45 [49:28<01:06, 66.81s/it]"
          ],
          "name": "stderr"
        },
        {
          "output_type": "stream",
          "text": [
            "Epoch 44 - loss_d: 0.565, loss_g: 2.415\n",
            "Epoch 45 - loss_d: 0.571, loss_g: 2.422\n"
          ],
          "name": "stdout"
        },
        {
          "output_type": "display_data",
          "data": {
            "image/png": "[encoded data removed]",
            "text/plain": [
              "<Figure size 288x288 with 16 Axes>"
            ]
          },
          "metadata": {
            "tags": [],
            "needs_background": "light"
          }
        },
        {
          "output_type": "stream",
          "text": [
            "100%|██████████| 45/45 [50:35<00:00, 67.46s/it]"
          ],
          "name": "stderr"
        },
        {
          "output_type": "stream",
          "text": [
            "\n",
            "\n"
          ],
          "name": "stdout"
        },
        {
          "output_type": "stream",
          "text": [
            "\n"
          ],
          "name": "stderr"
        }
      ]
    },
    {
      "cell_type": "markdown",
      "metadata": {
        "id": "CHggs5dSGGwG"
      },
      "source": [
        "![WeChat Screenshot_20210507190709.png](data:image/png;base64,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)![WeChat Screenshot_20210507185522.png](data:image/png;base64,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)"
      ]
    },
    {
      "cell_type": "markdown",
      "metadata": {
        "id": "8BEtVcgsGMXe"
      },
      "source": [
        "In the training, I ran out of the RAM in colab. That is why I have to stop it after 45 epochs. Due to technical issue, I cannot run all 50 epochs.\n",
        "After 45 epochs, we can generate very beautiful pictures that we can see the clothes clearly. "
      ]
    },
    {
      "cell_type": "markdown",
      "metadata": {
        "id": "PFYyillpFrYO"
      },
      "source": [
        "## Loss\n",
        "f. Report loss curves for both the discriminator and the generator loss over all epochs, and qualitatively comment on their behavior."
      ]
    },
    {
      "cell_type": "code",
      "metadata": {
        "id": "0n0ucAKAKOmW",
        "colab": {
          "base_uri": "https://localhost:8080/",
          "height": 285
        },
        "outputId": "9cee773a-5ca5-4e5e-9882-46f5b0900eb3"
      },
      "source": [
        "plt.plot(loss_D_overepoch,label=\"loss_D_overepoch\")\n",
        "\n",
        "plt.plot(loss_G_overepoch,label=\"loss_G_overepoch\")\n",
        "plt.legend()"
      ],
      "execution_count": 15,
      "outputs": [
        {
          "output_type": "execute_result",
          "data": {
            "text/plain": [
              "<matplotlib.legend.Legend at 0x7f2eb03ea710>"
            ]
          },
          "metadata": {
            "tags": []
          },
          "execution_count": 15
        },
        {
          "output_type": "display_data",
          "data": {
            "image/png": "[encoded data removed]",
            "text/plain": [
              "<Figure size 432x288 with 1 Axes>"
            ]
          },
          "metadata": {
            "tags": [],
            "needs_background": "light"
          }
        }
      ]
    },
    {
      "cell_type": "markdown",
      "metadata": {
        "id": "XJXTwc2In3w6"
      },
      "source": [
        "We can see that the loss of generator increases while the loss of the discriminator decreases. We try to maximize the generator and minimize the discriminator. So After 30 epochs, it start to be stable. "
      ]
    },
    {
      "cell_type": "code",
      "metadata": {
        "colab": {
          "base_uri": "https://localhost:8080/",
          "height": 282
        },
        "id": "VBCHFXTbjS9g",
        "outputId": "2febc03a-a24b-4ab1-cb57-09db5cccc8ef"
      },
      "source": [
        "plt.plot(D_losses_overall,label=\"loss_D_overall\")\n",
        "\n",
        "plt.plot(G_losses_overall,label=\"loss_G_overall\")\n",
        "plt.legend()"
      ],
      "execution_count": 17,
      "outputs": [
        {
          "output_type": "execute_result",
          "data": {
            "text/plain": [
              "<matplotlib.legend.Legend at 0x7f2eb028ead0>"
            ]
          },
          "metadata": {
            "tags": []
          },
          "execution_count": 17
        },
        {
          "output_type": "display_data",
          "data": {
            "image/png": "[encoded data removed]",
            "text/plain": [
              "<Figure size 432x288 with 1 Axes>"
            ]
          },
          "metadata": {
            "tags": [],
            "needs_background": "light"
          }
        }
      ]
    },
    {
      "cell_type": "markdown",
      "metadata": {
        "id": "Jmg5-d2Kkjks"
      },
      "source": [
        "## Test the generator again"
      ]
    },
    {
      "cell_type": "code",
      "metadata": {
        "colab": {
          "base_uri": "https://localhost:8080/",
          "height": 248
        },
        "id": "Jz5Pl64TjYGv",
        "outputId": "9c9d5715-81ce-4479-ea02-ce2354886a09"
      },
      "source": [
        "latent = torch.randn((1, 100))\n",
        "latent = latent.to(device) \n",
        "im = generator(latent)\n",
        "plt.imshow(im[0, 0, :, :].detach().cpu(),cmap='gray')\n",
        "plt.axis('off')\n",
        "plt.show()"
      ],
      "execution_count": 23,
      "outputs": [
        {
          "output_type": "display_data",
          "data": {
            "image/png": "[encoded data removed]",
            "text/plain": [
              "<Figure size 432x288 with 1 Axes>"
            ]
          },
          "metadata": {
            "tags": [],
            "needs_background": "light"
          }
        }
      ]
    },
    {
      "cell_type": "code",
      "metadata": {
        "id": "xDr4sFMmkTiS"
      },
      "source": [
        ""
      ],
      "execution_count": 22,
      "outputs": []
    }
  ]
}