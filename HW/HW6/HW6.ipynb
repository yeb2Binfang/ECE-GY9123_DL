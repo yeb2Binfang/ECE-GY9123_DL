{
  "nbformat": 4,
  "nbformat_minor": 0,
  "metadata": {
    "colab": {
      "name": "HW6.ipynb",
      "provenance": [],
      "include_colab_link": true
    },
    "kernelspec": {
      "name": "python3",
      "display_name": "Python 3"
    },
    "language_info": {
      "name": "python"
    },
    "accelerator": "GPU"
  },
  "cells": [
    {
      "cell_type": "markdown",
      "metadata": {
        "id": "view-in-github",
        "colab_type": "text"
      },
      "source": [
        "<a href=\"https://colab.research.google.com/github/yeb2Binfang/ECE-GY9123_DL/blob/main/HW/HW6/HW6.ipynb\" target=\"_parent\"><img src=\"https://colab.research.google.com/assets/colab-badge.svg\" alt=\"Open In Colab\"/></a>"
      ]
    },
    {
      "cell_type": "markdown",
      "metadata": {
        "id": "5jfvpBa9hDcb"
      },
      "source": [
        "## A simple GAN\n",
        "In this problem, the goal is to train and visualize the outputs of a simple Deep\n",
        "Convolutional GAN (DCGAN) to generate realistic-looking (but fake) images of clothing."
      ]
    },
    {
      "cell_type": "markdown",
      "metadata": {
        "id": "GYVw0aEghKQu"
      },
      "source": [
        "* a. Use the FashionMNIST training dataset to train the DCGAN. APIs for downloading it\n",
        "are available in both PyTorch and TensorFlow. Images are grayscale and size 28 × 28.\n",
        "* b. Use the following discriminator architecture (kernel size = 5 × 5 with stride = 2 in both\n",
        "directions):\n",
        "** 2D convolutions (1 × 28 × 28 → 64 × 14 × 14 → 128 × 7 × 7)\n",
        "** each convolutional layer is equipped with a Leaky ReLU with slope 0.3, followed\n",
        "by Dropout with parameter 0.3.\n",
        "** a dense layer that takes the flattened output of the last convolution and maps it to a\n",
        "scalar.\n",
        "\n",
        "Here is a [link](https://discuss.pytorch.org/t/how-to-keep-the-shape-of-input-and-output-same-when-dilation-conv/14338/3) that discusses how to appropriately choose padding and stride values in order to\n",
        "desired sizes.\n",
        "\n",
        "* c. Use the following generator architecture (which is essentially the reverse of a standard\n",
        "discriminative architecture). You can use the same kernel size. Construct:\n",
        "** a dense layer that takes a unit Gaussian noise vector of length 100 and maps it to a\n",
        "vector of size 7 ∗ 7 ∗ 256. No bias terms.\n",
        "** several transpose 2D convolutions (256 × 7 × 7 → 128 × 7 × 7 → 64 × 14 × 14 →\n",
        "1 × 28 × 28). No bias terms.\n",
        "** each convolutional layer (except the last one) is equipped with Batch Normalization\n",
        "(batch norm), followed by Leaky ReLU with slope 0.3. The last (output) layer is\n",
        "equipped with tanh activation (no batch norm).\n",
        "* d. Use the cross-entropy loss for training both the generator and the discriminator. Use the\n",
        "Adam optimizer with learning rate $10^{-4}$. \n",
        "* e. Train it for 50 epochs. You can use minibatch sizes of 16, 32, or 64. Training may take\n",
        "several minutes (or even up to an hour), so be patient! Display intermediate images\n",
        "generated after T = 10, T = 30, and T = 50 epochs. If the random seeds are fixed\n",
        "throughout then you should get results of the following quality.\n",
        "![WeChat Screenshot_20210501224441](https://user-images.githubusercontent.com/68700549/116800418-dcd71480-aace-11eb-9f80-41f4ede3ec0c.png)\n",
        "* f. Report loss curves for both the discriminator and the generator loss over all epochs, and\n",
        "qualitatively comment on their behavior."
      ]
    },
    {
      "cell_type": "markdown",
      "metadata": {
        "id": "hbiB9V0fhOuU"
      },
      "source": [
        "## Import packages"
      ]
    },
    {
      "cell_type": "code",
      "metadata": {
        "id": "8AfIYzBUUdrn"
      },
      "source": [
        "# import standard PyTorch modules\n",
        "import torch\n",
        "import torch.nn as nn\n",
        "import torch.nn.functional as F\n",
        "import torch.optim as optim\n",
        "from torch.utils.tensorboard import SummaryWriter # TensorBoard support\n",
        "\n",
        "# import torchvision module to handle image manipulation\n",
        "import torchvision\n",
        "from torchvision import datasets\n",
        "import torchvision.transforms as transforms\n",
        "from torch.autograd import Variable\n",
        "\n",
        "import numpy as np\n",
        "import pandas as pd\n",
        "import matplotlib.pyplot as plt\n",
        "%matplotlib inline\n",
        "\n",
        "from tqdm import tqdm\n",
        "from torchsummary import summary"
      ],
      "execution_count": 1,
      "outputs": []
    },
    {
      "cell_type": "markdown",
      "metadata": {
        "id": "qTOY4ilrmSoP"
      },
      "source": [
        "Move to GPU"
      ]
    },
    {
      "cell_type": "code",
      "metadata": {
        "colab": {
          "base_uri": "https://localhost:8080/"
        },
        "id": "_LcxJHd5mV6W",
        "outputId": "08e57f9f-f436-469e-b02b-73108f3c0c16"
      },
      "source": [
        "device = torch.device(\"cuda:0\" if torch.cuda.is_available() else \"cpu\")\n",
        "print(device)"
      ],
      "execution_count": 2,
      "outputs": [
        {
          "output_type": "stream",
          "text": [
            "cuda:0\n"
          ],
          "name": "stdout"
        }
      ]
    },
    {
      "cell_type": "code",
      "metadata": {
        "id": "F9UBuZjgYTkk",
        "colab": {
          "base_uri": "https://localhost:8080/"
        },
        "outputId": "39494e63-34cb-41ee-f9fa-f1b1a4a607d0"
      },
      "source": [
        "image_size = 28\n",
        "transform = transforms.Compose([\n",
        "    transforms.Scale(image_size),\n",
        "    transforms.ToTensor(),\n",
        "])\n"
      ],
      "execution_count": 3,
      "outputs": [
        {
          "output_type": "stream",
          "text": [
            "/usr/local/lib/python3.7/dist-packages/torchvision/transforms/transforms.py:285: UserWarning: The use of the transforms.Scale transform is deprecated, please use transforms.Resize instead.\n",
            "  warnings.warn(\"The use of the transforms.Scale transform is deprecated, \" +\n"
          ],
          "name": "stderr"
        }
      ]
    },
    {
      "cell_type": "code",
      "metadata": {
        "id": "hGYhbV8ZYcoU",
        "colab": {
          "base_uri": "https://localhost:8080/"
        },
        "outputId": "fb804938-6282-43df-d22f-a91857e06e54"
      },
      "source": [
        "#torch.manual_seed(0)"
      ],
      "execution_count": null,
      "outputs": [
        {
          "output_type": "execute_result",
          "data": {
            "text/plain": [
              "<torch._C.Generator at 0x7f7a56885910>"
            ]
          },
          "metadata": {
            "tags": []
          },
          "execution_count": 4
        }
      ]
    },
    {
      "cell_type": "code",
      "metadata": {
        "id": "20v8vSqiYUMY"
      },
      "source": [
        "#transform = transforms.Compose([transforms.ToTensor(),transforms.Normalize((0.5,),(0.5,),)])"
      ],
      "execution_count": 3,
      "outputs": []
    },
    {
      "cell_type": "markdown",
      "metadata": {
        "id": "Qw5Sj4RehYs4"
      },
      "source": [
        "## Load the dataset"
      ]
    },
    {
      "cell_type": "code",
      "metadata": {
        "id": "nl3Z_dhXhbFW"
      },
      "source": [
        "## Creates a series of transformation to prepare the dataset. We convert images to tensor\n",
        "\n",
        "## Load the dataset\n",
        "train_set = datasets.FashionMNIST('~/.pytorch/F_MNIST_data', download=True, train=True, transform=transform)\n",
        "test_set = datasets.FashionMNIST('~/.pytorch/F_MNIST_data', download=True, train=False, transform=transform)\n",
        "\n",
        "## Data Loader\n",
        "train_data_loader = torch.utils.data.DataLoader(train_set, batch_size=16, shuffle=True)\n",
        "test_data_loader = torch.utils.data.DataLoader(test_set, batch_size=16, shuffle=True)\n"
      ],
      "execution_count": 4,
      "outputs": []
    },
    {
      "cell_type": "markdown",
      "metadata": {
        "id": "HgmEGd0_hjTq"
      },
      "source": [
        "### Explore the dataset\n",
        "We have 60,000 data  for training and 10,000 data for testing"
      ]
    },
    {
      "cell_type": "code",
      "metadata": {
        "colab": {
          "base_uri": "https://localhost:8080/"
        },
        "id": "T1FegDR1UplG",
        "outputId": "71b83235-245c-4d50-e545-0adbc10ffde6"
      },
      "source": [
        "print(train_set)"
      ],
      "execution_count": null,
      "outputs": [
        {
          "output_type": "stream",
          "text": [
            "Dataset FashionMNIST\n",
            "    Number of datapoints: 60000\n",
            "    Root location: /root/.pytorch/F_MNIST_data\n",
            "    Split: Train\n",
            "    StandardTransform\n",
            "Transform: Compose(\n",
            "               ToTensor()\n",
            "               Normalize(mean=(0.5,), std=(0.5,))\n",
            "           )\n"
          ],
          "name": "stdout"
        }
      ]
    },
    {
      "cell_type": "code",
      "metadata": {
        "colab": {
          "base_uri": "https://localhost:8080/"
        },
        "id": "_EVTAi-QWnUb",
        "outputId": "8f1b6f57-0fb0-41a7-c100-ce20453e9bed"
      },
      "source": [
        "print(test_set)"
      ],
      "execution_count": null,
      "outputs": [
        {
          "output_type": "stream",
          "text": [
            "Dataset FashionMNIST\n",
            "    Number of datapoints: 10000\n",
            "    Root location: /root/.pytorch/F_MNIST_data\n",
            "    Split: Test\n",
            "    StandardTransform\n",
            "Transform: Compose(\n",
            "               ToTensor()\n",
            "               Normalize(mean=(0.5,), std=(0.5,))\n",
            "           )\n"
          ],
          "name": "stdout"
        }
      ]
    },
    {
      "cell_type": "markdown",
      "metadata": {
        "id": "bR_c0zU2mcQj"
      },
      "source": [
        "### Visualize the image"
      ]
    },
    {
      "cell_type": "code",
      "metadata": {
        "colab": {
          "base_uri": "https://localhost:8080/"
        },
        "id": "RBzFBk1-mfA9",
        "outputId": "4ec51bd0-3fc8-4438-f875-73e2dbe12305"
      },
      "source": [
        "dataiter = iter(train_data_loader)\n",
        "images, labels = dataiter.next()\n",
        "print(type(images))\n",
        "print(images.shape)\n",
        "print(labels.shape)"
      ],
      "execution_count": null,
      "outputs": [
        {
          "output_type": "stream",
          "text": [
            "<class 'torch.Tensor'>\n",
            "torch.Size([64, 1, 28, 28])\n",
            "torch.Size([64])\n"
          ],
          "name": "stdout"
        }
      ]
    },
    {
      "cell_type": "code",
      "metadata": {
        "colab": {
          "base_uri": "https://localhost:8080/",
          "height": 337
        },
        "id": "J-AmeZQgmhkm",
        "outputId": "2e484045-c7e5-492c-e4d8-4dcbc6669705"
      },
      "source": [
        "rand_index = np.random.randint(0,64)\n",
        "fig = plt.figure(figsize=(15,5))\n",
        "plt.imshow(images[rand_index].reshape((28,28)),cmap='gray')\n",
        "print(\"the label is: \"+ str(int(labels[rand_index])))"
      ],
      "execution_count": null,
      "outputs": [
        {
          "output_type": "stream",
          "text": [
            "the label is: 6\n"
          ],
          "name": "stdout"
        },
        {
          "output_type": "display_data",
          "data": {
            "image/png": "[encoded data removed]",
            "text/plain": [
              "<Figure size 1080x360 with 1 Axes>"
            ]
          },
          "metadata": {
            "tags": [],
            "needs_background": "light"
          }
        }
      ]
    },
    {
      "cell_type": "markdown",
      "metadata": {
        "id": "ARAMhVh2hqEX"
      },
      "source": [
        "## Build discriminator architecture\n",
        "\n",
        "kernel size = 5 × 5 with stride = 2 in both\n",
        "directions:\n",
        "\n",
        "* 2D convolutions (1 × 28 × 28 → 64 × 14 × 14 → 128 × 7 × 7)\n",
        "* each convolutional layer is equipped with a Leaky ReLU with slope 0.3, followed\n",
        "by Dropout with parameter 0.3.\n",
        "* a dense layer that takes the flattened output of the last convolution and maps it to a\n",
        "scalar.\n"
      ]
    },
    {
      "cell_type": "code",
      "metadata": {
        "id": "HrzXAQQvUvB7"
      },
      "source": [
        "# class discriminator_model(nn.Module):\n",
        "\n",
        "#   def __init__(self):\n",
        "#     super(discriminator_model, self).__init__()\n",
        "#     self.main = nn.Sequential(\n",
        "#       nn.Conv2d(1,64,5,2,padding=2),\n",
        "#       nn.LeakyReLU(0.3),\n",
        "#       nn.Dropout(0.3),\n",
        "\n",
        "#       nn.Conv2d(64,128,5,2,padding=2),\n",
        "#       nn.LeakyReLU(0.3),\n",
        "#       nn.Dropout(0.3),\n",
        "\n",
        "#       nn.Flatten(),\n",
        "#       nn.Linear(6272,1),\n",
        "#       nn.Sigmoid()\n",
        "#     )\n",
        " \n",
        "#   def weight_init(self):\n",
        "#     for m in self._modules:\n",
        "#       normal_init(self._modules[m])\n",
        "      \n",
        "#   def forward(self, input):\n",
        "#     return self.main(input)"
      ],
      "execution_count": 5,
      "outputs": []
    },
    {
      "cell_type": "code",
      "metadata": {
        "id": "-n3XaiVj4LwH"
      },
      "source": [
        "class discriminator_model(nn.Module):\n",
        "\n",
        "  def __init__(self):\n",
        "    super(discriminator_model, self).__init__()\n",
        "    self.conv1 = nn.Conv2d(1,64,5,2,2)\n",
        "    self.conv2 = nn.Conv2d(64,128,5,2,2)\n",
        "    self.dense = nn.Linear(128*7*7,1)\n",
        " \n",
        "  def weight_init(self):\n",
        "    for m in self._modules:\n",
        "      normal_init(self._modules[m])\n",
        "      \n",
        "  def forward(self, input):\n",
        "    x = F.dropout(F.leaky_relu(self.conv1(input),0.3),0.3)\n",
        "    x = F.dropout(F.leaky_relu(self.conv2(x),0.3),0.3)\n",
        "    x = x.view(-1,128*7*7)\n",
        "    x = torch.sigmoid(self.dense(x))\n",
        "    return x"
      ],
      "execution_count": 5,
      "outputs": []
    },
    {
      "cell_type": "markdown",
      "metadata": {
        "id": "y9owKKTgml_6"
      },
      "source": [
        "### Test it\n",
        "Make sure the architecture is right"
      ]
    },
    {
      "cell_type": "code",
      "metadata": {
        "colab": {
          "base_uri": "https://localhost:8080/"
        },
        "id": "1uY1tIkemrpm",
        "outputId": "c99bb5ec-a5d1-4ba7-b466-44d256911bd3"
      },
      "source": [
        "discriminator = discriminator_model().to(device)\n",
        "summary(discriminator,(1,28,28))"
      ],
      "execution_count": null,
      "outputs": [
        {
          "output_type": "stream",
          "text": [
            "----------------------------------------------------------------\n",
            "        Layer (type)               Output Shape         Param #\n",
            "================================================================\n",
            "            Conv2d-1           [-1, 64, 14, 14]           1,664\n",
            "         LeakyReLU-2           [-1, 64, 14, 14]               0\n",
            "           Dropout-3           [-1, 64, 14, 14]               0\n",
            "            Conv2d-4            [-1, 128, 7, 7]         204,928\n",
            "         LeakyReLU-5            [-1, 128, 7, 7]               0\n",
            "           Dropout-6            [-1, 128, 7, 7]               0\n",
            "           Flatten-7                 [-1, 6272]               0\n",
            "            Linear-8                    [-1, 1]           6,273\n",
            "           Sigmoid-9                    [-1, 1]               0\n",
            "================================================================\n",
            "Total params: 212,865\n",
            "Trainable params: 212,865\n",
            "Non-trainable params: 0\n",
            "----------------------------------------------------------------\n",
            "Input size (MB): 0.00\n",
            "Forward/backward pass size (MB): 0.48\n",
            "Params size (MB): 0.81\n",
            "Estimated Total Size (MB): 1.29\n",
            "----------------------------------------------------------------\n"
          ],
          "name": "stdout"
        }
      ]
    },
    {
      "cell_type": "markdown",
      "metadata": {
        "id": "HXtuWGwjh1PJ"
      },
      "source": [
        "## Build generator\n",
        "\n",
        "* c. Use the following generator architecture (which is essentially the reverse of a standard\n",
        "discriminative architecture). You can use the same kernel size. Construct:\n",
        "** a dense layer that takes a unit Gaussian noise vector of length 100 (This means initial input.) and maps it to a\n",
        "vector of size 7 ∗ 7 ∗ 256.  No bias terms.\n",
        "** several transpose 2D convolutions (256 × 7 × 7 → 128 × 7 × 7 → 64 × 14 × 14 →\n",
        "1 × 28 × 28). No bias terms.\n",
        "** each convolutional layer (except the last one) is equipped with Batch Normalization\n",
        "(batch norm), followed by Leaky ReLU with slope 0.3. The last (output) layer is\n",
        "equipped with tanh activation (no batch norm)."
      ]
    },
    {
      "cell_type": "code",
      "metadata": {
        "id": "oi5ZY-z8U0Pb"
      },
      "source": [
        "# class generator_model(nn.Module):\n",
        "\n",
        "#   def __init__(self):\n",
        "#     super(generator_model, self).__init__()\n",
        "#     self.main = nn.Sequential(\n",
        "#       nn.ConvTranspose2d(100,256,7,1,0,bias=False),\n",
        "#       nn.BatchNorm2d(256),\n",
        "#       nn.LeakyReLU(0.3),\n",
        "\n",
        "#       nn.ConvTranspose2d(256,128,5,1,2,bias=False),\n",
        "#       nn.BatchNorm2d(128),\n",
        "#       nn.LeakyReLU(0.3),\n",
        "\n",
        "#       nn.ConvTranspose2d(128,64,6,2,2,bias=False),\n",
        "#       nn.BatchNorm2d(64),\n",
        "#       nn.LeakyReLU(0.3),\n",
        "\n",
        "#       nn.ConvTranspose2d(64,1,6,2,2,bias=False),\n",
        "#       nn.Tanh()\n",
        "#     )\n",
        "    \n",
        "#   def weight_init(self):\n",
        "#     for m in self._modules:\n",
        "#       normal_init(self._modules[m])\n",
        "      \n",
        "#   def forward(self, input):\n",
        "#     return self.main(input)"
      ],
      "execution_count": 6,
      "outputs": []
    },
    {
      "cell_type": "code",
      "metadata": {
        "id": "ZD3ljuGL1EZr"
      },
      "source": [
        "class generator_model(nn.Module):\n",
        "\n",
        "  def __init__(self):\n",
        "    super(generator_model, self).__init__()\n",
        "    self.dense = nn.Linear(100, 7*7*256, bias=False)\n",
        "    self.deconv1 = nn.ConvTranspose2d(256,128,5,1,2,bias=False)\n",
        "    self.deconv2 = nn.ConvTranspose2d(128,64,5,2,2,1,bias=False)\n",
        "    self.deconv3 = nn.ConvTranspose2d(64,1,5,2,2,1,bias=False)\n",
        "    self.bn1 = nn.BatchNorm2d(256)\n",
        "    self.bn2 = nn.BatchNorm2d(128)\n",
        "    self.bn3 = nn.BatchNorm2d(64)\n",
        "    \n",
        "  def weight_init(self):\n",
        "    for m in self._modules:\n",
        "      normal_init(self._modules[m])\n",
        "      \n",
        "  def forward(self, input):\n",
        "    x = self.dense(input).view(-1,256,7,7)\n",
        "    x = F.leaky_relu(self.bn1(x),0.3)\n",
        "    x = F.leaky_relu(self.bn2(self.deconv1(x)),0.3)\n",
        "    x = F.leaky_relu(self.bn3(self.deconv2(x)),0.3)\n",
        "    x = torch.tanh(self.deconv3(x))\n",
        "    return x"
      ],
      "execution_count": 6,
      "outputs": []
    },
    {
      "cell_type": "markdown",
      "metadata": {
        "id": "Tz54dCOKmwIc"
      },
      "source": [
        "### Test it\n",
        "Make sure the architeuture is right"
      ]
    },
    {
      "cell_type": "code",
      "metadata": {
        "colab": {
          "base_uri": "https://localhost:8080/"
        },
        "id": "h8yCIURxm2f1",
        "outputId": "6977d319-1110-4406-d14c-a6546e99a71a"
      },
      "source": [
        "generator = generator_model().to(device)\n",
        "summary(generator,(100,1,1))"
      ],
      "execution_count": null,
      "outputs": [
        {
          "output_type": "stream",
          "text": [
            "----------------------------------------------------------------\n",
            "        Layer (type)               Output Shape         Param #\n",
            "================================================================\n",
            "   ConvTranspose2d-1            [-1, 256, 7, 7]       1,254,400\n",
            "       BatchNorm2d-2            [-1, 256, 7, 7]             512\n",
            "         LeakyReLU-3            [-1, 256, 7, 7]               0\n",
            "   ConvTranspose2d-4            [-1, 128, 7, 7]         819,200\n",
            "       BatchNorm2d-5            [-1, 128, 7, 7]             256\n",
            "         LeakyReLU-6            [-1, 128, 7, 7]               0\n",
            "   ConvTranspose2d-7           [-1, 64, 14, 14]         294,912\n",
            "       BatchNorm2d-8           [-1, 64, 14, 14]             128\n",
            "         LeakyReLU-9           [-1, 64, 14, 14]               0\n",
            "  ConvTranspose2d-10            [-1, 1, 28, 28]           2,304\n",
            "             Tanh-11            [-1, 1, 28, 28]               0\n",
            "================================================================\n",
            "Total params: 2,371,712\n",
            "Trainable params: 2,371,712\n",
            "Non-trainable params: 0\n",
            "----------------------------------------------------------------\n",
            "Input size (MB): 0.00\n",
            "Forward/backward pass size (MB): 0.73\n",
            "Params size (MB): 9.05\n",
            "Estimated Total Size (MB): 9.78\n",
            "----------------------------------------------------------------\n"
          ],
          "name": "stdout"
        }
      ]
    },
    {
      "cell_type": "markdown",
      "metadata": {
        "id": "9ObunMMkm5D9"
      },
      "source": [
        "## Initialize the weight "
      ]
    },
    {
      "cell_type": "code",
      "metadata": {
        "id": "Fdy7nICih_A8"
      },
      "source": [
        "def normal_init(m):\n",
        "  if isinstance(m, nn.ConvTranspose2d) or isinstance(m, nn.Conv2d):\n",
        "    m.weight.data.normal_(0.0, 0.02)\n",
        "    #m.bias.data.zero_()"
      ],
      "execution_count": 7,
      "outputs": []
    },
    {
      "cell_type": "code",
      "metadata": {
        "id": "iY3eZbNXU2NL"
      },
      "source": [
        "generator = generator_model().to(device)\n",
        "discriminator = discriminator_model().to(device)\n",
        "generator.weight_init()\n",
        "discriminator.weight_init()"
      ],
      "execution_count": 8,
      "outputs": []
    },
    {
      "cell_type": "markdown",
      "metadata": {
        "id": "gKJkJjR8nH-i"
      },
      "source": [
        "## Try generator\n",
        "Make sure the generator works"
      ]
    },
    {
      "cell_type": "code",
      "metadata": {
        "id": "zlnrE0hYnM9T"
      },
      "source": [
        "latent = torch.randn((1, 100)).view(-1, 100, 1, 1)\n",
        "latent = latent.to(device)"
      ],
      "execution_count": null,
      "outputs": []
    },
    {
      "cell_type": "code",
      "metadata": {
        "id": "RWYfw_psnQY7"
      },
      "source": [
        "im = generator(latent)"
      ],
      "execution_count": null,
      "outputs": []
    },
    {
      "cell_type": "code",
      "metadata": {
        "colab": {
          "base_uri": "https://localhost:8080/",
          "height": 281
        },
        "id": "dBkwQbggnSDU",
        "outputId": "15d85bf1-7413-4032-e687-5c268f1f2acb"
      },
      "source": [
        "plt.imshow(im[0, 0, :, :].detach().cpu(),cmap='gray')"
      ],
      "execution_count": null,
      "outputs": [
        {
          "output_type": "execute_result",
          "data": {
            "text/plain": [
              "<matplotlib.image.AxesImage at 0x7f4ea92f3810>"
            ]
          },
          "metadata": {
            "tags": []
          },
          "execution_count": 12
        },
        {
          "output_type": "display_data",
          "data": {
            "image/png": "[encoded data removed]",
            "text/plain": [
              "<Figure size 432x288 with 1 Axes>"
            ]
          },
          "metadata": {
            "tags": [],
            "needs_background": "light"
          }
        }
      ]
    },
    {
      "cell_type": "markdown",
      "metadata": {
        "id": "AnT4gm-SiFdL"
      },
      "source": [
        "## Loss and optimizers\n",
        "\n",
        "Use the cross-entropy loss for training both the generator and the discriminator. Use the\n",
        "Adam optimizer with learning rate $10^{-4}$."
      ]
    },
    {
      "cell_type": "code",
      "metadata": {
        "id": "OFkCn39hjMG2"
      },
      "source": [
        "learning_rate = 1e-4"
      ],
      "execution_count": 9,
      "outputs": []
    },
    {
      "cell_type": "code",
      "metadata": {
        "id": "IZaiTahCVAID"
      },
      "source": [
        "loss = nn.BCELoss()"
      ],
      "execution_count": 10,
      "outputs": []
    },
    {
      "cell_type": "code",
      "metadata": {
        "id": "m7vV9zwuVDA3"
      },
      "source": [
        "optimizerD = optim.Adam(discriminator.parameters(), lr=learning_rate, betas=(0.5, 0.999))\n",
        "optimizerG = optim.Adam(generator.parameters(), lr=learning_rate, betas=(0.5, 0.999))"
      ],
      "execution_count": 11,
      "outputs": []
    },
    {
      "cell_type": "markdown",
      "metadata": {
        "id": "0CtnGQv9oD2k"
      },
      "source": [
        "## Plot"
      ]
    },
    {
      "cell_type": "code",
      "metadata": {
        "id": "cMFHMeRXfgwD"
      },
      "source": [
        "def plot_graph():\n",
        "  fig = plt.figure(figsize=(4,4))\n",
        "  for i in range(16):  \n",
        "    latent = torch.randn((1, 100))#.view(-1, 100, 1, 1)\n",
        "    latent = latent.to(device) \n",
        "    im = generator(latent)\n",
        "    plt.subplot(4, 4, i+1)\n",
        "    plt.imshow(im[0, 0, :, :].detach().cpu(),cmap='gray')\n",
        "    plt.axis('off')\n",
        "  plt.show()\n",
        "  print(\"\\n\")"
      ],
      "execution_count": 12,
      "outputs": []
    },
    {
      "cell_type": "markdown",
      "metadata": {
        "id": "F4QEb2XooA4y"
      },
      "source": [
        "## Train the data\n",
        "e. Let 1 denotes real images and 0 denotes fake images. D_loss = real_loss + fake_loss. real_loss is from real images and fake_loss is from fake images that generated from genertaor. \n",
        "\n",
        "Train it for 50 epochs. You can use minibatch sizes of 16, 32, or 64. Training may take several minutes (or even up to an hour), so be patient! Display intermediate images generated after T = 10, T = 30, and T = 50 epochs. "
      ]
    },
    {
      "cell_type": "code",
      "metadata": {
        "id": "SQJD66w8ogbm"
      },
      "source": [
        "n_epochs = 50"
      ],
      "execution_count": 13,
      "outputs": []
    },
    {
      "cell_type": "code",
      "metadata": {
        "colab": {
          "base_uri": "https://localhost:8080/",
          "height": 1000
        },
        "id": "dahzgw0AVHjz",
        "outputId": "4398c5fd-e847-4b9b-dbd3-2b09d1e71aef"
      },
      "source": [
        "loss_G_overepoch = []\n",
        "loss_D_overepoch = []\n",
        "D_losses_overall = []\n",
        "G_losses_overall = []\n",
        "for epoch in tqdm(range(n_epochs)):\n",
        "\n",
        "  loss_g = []\n",
        "  loss_d = []  \n",
        "  for data, _ in train_data_loader:\n",
        "    discriminator.zero_grad()\n",
        "    mini_batch = data.size()[0]\n",
        "    \n",
        "    label_real = torch.ones(mini_batch)\n",
        "    label_fake = torch.zeros(mini_batch)\n",
        "    \n",
        "    data = Variable(data).to(device)\n",
        "\n",
        "    label_real = Variable(label_real).to(device)\n",
        "    label_fake = Variable(label_fake).to(device)\n",
        "    \n",
        "    D_result = discriminator(data).squeeze()\n",
        "    D_real_loss = loss(D_result, label_real)\n",
        "    \n",
        "    z = torch.randn((mini_batch, 100))#.view(-1, 100, 1, 1)\n",
        "    z = Variable(z).to(device)\n",
        "    G_result = generator(z)\n",
        "    \n",
        "    D_result = discriminator(G_result).squeeze()\n",
        "    D_fake_loss = loss(D_result, label_fake)\n",
        "    D_total_loss = D_real_loss + D_fake_loss\n",
        "    # D_total_loss = Variable(D_total_loss).to(device)\n",
        "    # D_total_loss = Variable(D_total_loss,requires_grad=True)\n",
        "\n",
        "    D_total_loss.backward()\n",
        "    optimizerD.step()\n",
        "    loss_d.append(D_total_loss)\n",
        "    D_losses_overall.append(D_total_loss)\n",
        "    generator.zero_grad()\n",
        "    \n",
        "    z = torch.randn((mini_batch, 100))#.view(-1, 100, 1, 1)\n",
        "    z = Variable(z).to(device)\n",
        "    \n",
        "    G_result = generator(z)\n",
        "    D_result = discriminator(G_result).squeeze()\n",
        "    G_train_loss = loss(D_result, label_real)\n",
        "    #G_train_loss = Variable(G_train_loss).to(device)\n",
        "    #G_train_loss = Variable(G_train_loss,requires_grad=True)\n",
        "    G_train_loss.backward()\n",
        "    optimizerG.step()\n",
        "    loss_g.append(G_train_loss)\n",
        "    G_losses_overall.append(G_train_loss)\n",
        "\n",
        "  loss_G_overepoch.append(torch.mean(torch.FloatTensor(loss_g)))\n",
        "  loss_D_overepoch.append(torch.mean(torch.FloatTensor(loss_d)))   \n",
        "  print('Epoch {} - loss_d: {:.3f}, loss_g: {:.3f}'.format((epoch + 1),\n",
        "                                                          torch.mean(torch.FloatTensor(loss_d)),\n",
        "                                                          torch.mean(torch.FloatTensor(loss_g))))\n",
        "\n",
        "  if epoch in [9,29,49]:                                                        \n",
        "    plot_graph()"
      ],
      "execution_count": 14,
      "outputs": [
        {
          "output_type": "stream",
          "text": [
            "  2%|▏         | 1/50 [00:53<43:38, 53.45s/it]"
          ],
          "name": "stderr"
        },
        {
          "output_type": "stream",
          "text": [
            "Epoch 1 - loss_d: 1.301, loss_g: 0.775\n"
          ],
          "name": "stdout"
        },
        {
          "output_type": "stream",
          "text": [
            "\r  4%|▍         | 2/50 [01:46<42:35, 53.24s/it]"
          ],
          "name": "stderr"
        },
        {
          "output_type": "stream",
          "text": [
            "Epoch 2 - loss_d: 1.119, loss_g: 0.993\n"
          ],
          "name": "stdout"
        },
        {
          "output_type": "stream",
          "text": [
            "\r  6%|▌         | 3/50 [02:39<41:40, 53.21s/it]"
          ],
          "name": "stderr"
        },
        {
          "output_type": "stream",
          "text": [
            "Epoch 3 - loss_d: 1.084, loss_g: 1.075\n"
          ],
          "name": "stdout"
        },
        {
          "output_type": "stream",
          "text": [
            "\r  8%|▊         | 4/50 [03:32<40:45, 53.15s/it]"
          ],
          "name": "stderr"
        },
        {
          "output_type": "stream",
          "text": [
            "Epoch 4 - loss_d: 1.053, loss_g: 1.130\n"
          ],
          "name": "stdout"
        },
        {
          "output_type": "stream",
          "text": [
            "\r 10%|█         | 5/50 [04:25<39:51, 53.14s/it]"
          ],
          "name": "stderr"
        },
        {
          "output_type": "stream",
          "text": [
            "Epoch 5 - loss_d: 1.014, loss_g: 1.187\n"
          ],
          "name": "stdout"
        },
        {
          "output_type": "stream",
          "text": [
            "\r 12%|█▏        | 6/50 [05:18<38:56, 53.10s/it]"
          ],
          "name": "stderr"
        },
        {
          "output_type": "stream",
          "text": [
            "Epoch 6 - loss_d: 0.976, loss_g: 1.248\n"
          ],
          "name": "stdout"
        },
        {
          "output_type": "stream",
          "text": [
            "\r 14%|█▍        | 7/50 [06:11<38:02, 53.08s/it]"
          ],
          "name": "stderr"
        },
        {
          "output_type": "stream",
          "text": [
            "Epoch 7 - loss_d: 0.943, loss_g: 1.312\n"
          ],
          "name": "stdout"
        },
        {
          "output_type": "stream",
          "text": [
            "\r 16%|█▌        | 8/50 [07:04<37:08, 53.06s/it]"
          ],
          "name": "stderr"
        },
        {
          "output_type": "stream",
          "text": [
            "Epoch 8 - loss_d: 0.902, loss_g: 1.378\n"
          ],
          "name": "stdout"
        },
        {
          "output_type": "stream",
          "text": [
            "\r 18%|█▊        | 9/50 [07:57<36:15, 53.05s/it]"
          ],
          "name": "stderr"
        },
        {
          "output_type": "stream",
          "text": [
            "Epoch 9 - loss_d: 0.869, loss_g: 1.447\n",
            "Epoch 10 - loss_d: 0.839, loss_g: 1.499\n"
          ],
          "name": "stdout"
        },
        {
          "output_type": "display_data",
          "data": {
            "image/png": "[encoded data removed]",
            "text/plain": [
              "<Figure size 288x288 with 16 Axes>"
            ]
          },
          "metadata": {
            "tags": [],
            "needs_background": "light"
          }
        },
        {
          "output_type": "stream",
          "text": [
            "\r 20%|██        | 10/50 [08:51<35:28, 53.20s/it]"
          ],
          "name": "stderr"
        },
        {
          "output_type": "stream",
          "text": [
            "\n",
            "\n"
          ],
          "name": "stdout"
        },
        {
          "output_type": "stream",
          "text": [
            "\r 22%|██▏       | 11/50 [09:44<34:33, 53.16s/it]"
          ],
          "name": "stderr"
        },
        {
          "output_type": "stream",
          "text": [
            "Epoch 11 - loss_d: 0.813, loss_g: 1.557\n"
          ],
          "name": "stdout"
        },
        {
          "output_type": "stream",
          "text": [
            "\r 24%|██▍       | 12/50 [10:37<33:39, 53.15s/it]"
          ],
          "name": "stderr"
        },
        {
          "output_type": "stream",
          "text": [
            "Epoch 12 - loss_d: 0.792, loss_g: 1.610\n"
          ],
          "name": "stdout"
        },
        {
          "output_type": "stream",
          "text": [
            "\r 26%|██▌       | 13/50 [11:30<32:45, 53.13s/it]"
          ],
          "name": "stderr"
        },
        {
          "output_type": "stream",
          "text": [
            "Epoch 13 - loss_d: 0.768, loss_g: 1.669\n"
          ],
          "name": "stdout"
        },
        {
          "output_type": "stream",
          "text": [
            "\r 28%|██▊       | 14/50 [12:23<31:52, 53.12s/it]"
          ],
          "name": "stderr"
        },
        {
          "output_type": "stream",
          "text": [
            "Epoch 14 - loss_d: 0.742, loss_g: 1.730\n"
          ],
          "name": "stdout"
        },
        {
          "output_type": "stream",
          "text": [
            "\r 30%|███       | 15/50 [13:16<30:59, 53.13s/it]"
          ],
          "name": "stderr"
        },
        {
          "output_type": "stream",
          "text": [
            "Epoch 15 - loss_d: 0.723, loss_g: 1.776\n"
          ],
          "name": "stdout"
        },
        {
          "output_type": "stream",
          "text": [
            "\r 32%|███▏      | 16/50 [14:09<30:05, 53.12s/it]"
          ],
          "name": "stderr"
        },
        {
          "output_type": "stream",
          "text": [
            "Epoch 16 - loss_d: 0.701, loss_g: 1.827\n"
          ],
          "name": "stdout"
        },
        {
          "output_type": "stream",
          "text": [
            "\r 34%|███▍      | 17/50 [15:02<29:13, 53.13s/it]"
          ],
          "name": "stderr"
        },
        {
          "output_type": "stream",
          "text": [
            "Epoch 17 - loss_d: 0.683, loss_g: 1.885\n"
          ],
          "name": "stdout"
        },
        {
          "output_type": "stream",
          "text": [
            "\r 36%|███▌      | 18/50 [15:56<28:21, 53.17s/it]"
          ],
          "name": "stderr"
        },
        {
          "output_type": "stream",
          "text": [
            "Epoch 18 - loss_d: 0.660, loss_g: 1.926\n"
          ],
          "name": "stdout"
        },
        {
          "output_type": "stream",
          "text": [
            "\r 38%|███▊      | 19/50 [16:49<27:28, 53.17s/it]"
          ],
          "name": "stderr"
        },
        {
          "output_type": "stream",
          "text": [
            "Epoch 19 - loss_d: 0.649, loss_g: 1.985\n"
          ],
          "name": "stdout"
        },
        {
          "output_type": "stream",
          "text": [
            "\r 40%|████      | 20/50 [17:42<26:36, 53.21s/it]"
          ],
          "name": "stderr"
        },
        {
          "output_type": "stream",
          "text": [
            "Epoch 20 - loss_d: 0.628, loss_g: 2.029\n"
          ],
          "name": "stdout"
        },
        {
          "output_type": "stream",
          "text": [
            "\r 42%|████▏     | 21/50 [18:35<25:42, 53.19s/it]"
          ],
          "name": "stderr"
        },
        {
          "output_type": "stream",
          "text": [
            "Epoch 21 - loss_d: 0.616, loss_g: 2.082\n"
          ],
          "name": "stdout"
        },
        {
          "output_type": "stream",
          "text": [
            "\r 44%|████▍     | 22/50 [19:28<24:48, 53.18s/it]"
          ],
          "name": "stderr"
        },
        {
          "output_type": "stream",
          "text": [
            "Epoch 22 - loss_d: 0.606, loss_g: 2.110\n"
          ],
          "name": "stdout"
        },
        {
          "output_type": "stream",
          "text": [
            "\r 46%|████▌     | 23/50 [20:22<23:55, 53.16s/it]"
          ],
          "name": "stderr"
        },
        {
          "output_type": "stream",
          "text": [
            "Epoch 23 - loss_d: 0.597, loss_g: 2.155\n"
          ],
          "name": "stdout"
        },
        {
          "output_type": "stream",
          "text": [
            "\r 48%|████▊     | 24/50 [21:15<23:02, 53.16s/it]"
          ],
          "name": "stderr"
        },
        {
          "output_type": "stream",
          "text": [
            "Epoch 24 - loss_d: 0.588, loss_g: 2.175\n"
          ],
          "name": "stdout"
        },
        {
          "output_type": "stream",
          "text": [
            "\r 50%|█████     | 25/50 [22:08<22:09, 53.16s/it]"
          ],
          "name": "stderr"
        },
        {
          "output_type": "stream",
          "text": [
            "Epoch 25 - loss_d: 0.578, loss_g: 2.215\n"
          ],
          "name": "stdout"
        },
        {
          "output_type": "stream",
          "text": [
            "\r 52%|█████▏    | 26/50 [23:01<21:16, 53.17s/it]"
          ],
          "name": "stderr"
        },
        {
          "output_type": "stream",
          "text": [
            "Epoch 26 - loss_d: 0.568, loss_g: 2.249\n"
          ],
          "name": "stdout"
        },
        {
          "output_type": "stream",
          "text": [
            "\r 54%|█████▍    | 27/50 [23:54<20:22, 53.16s/it]"
          ],
          "name": "stderr"
        },
        {
          "output_type": "stream",
          "text": [
            "Epoch 27 - loss_d: 0.572, loss_g: 2.265\n"
          ],
          "name": "stdout"
        },
        {
          "output_type": "stream",
          "text": [
            "\r 56%|█████▌    | 28/50 [24:48<19:30, 53.22s/it]"
          ],
          "name": "stderr"
        },
        {
          "output_type": "stream",
          "text": [
            "Epoch 28 - loss_d: 0.561, loss_g: 2.304\n"
          ],
          "name": "stdout"
        },
        {
          "output_type": "stream",
          "text": [
            "\r 58%|█████▊    | 29/50 [25:41<18:40, 53.36s/it]"
          ],
          "name": "stderr"
        },
        {
          "output_type": "stream",
          "text": [
            "Epoch 29 - loss_d: 0.563, loss_g: 2.327\n",
            "Epoch 30 - loss_d: 0.553, loss_g: 2.360\n"
          ],
          "name": "stdout"
        },
        {
          "output_type": "display_data",
          "data": {
            "image/png": "[encoded data removed]",
            "text/plain": [
              "<Figure size 288x288 with 16 Axes>"
            ]
          },
          "metadata": {
            "tags": [],
            "needs_background": "light"
          }
        },
        {
          "output_type": "stream",
          "text": [
            "\r 60%|██████    | 30/50 [26:36<17:53, 53.69s/it]"
          ],
          "name": "stderr"
        },
        {
          "output_type": "stream",
          "text": [
            "\n",
            "\n"
          ],
          "name": "stdout"
        },
        {
          "output_type": "stream",
          "text": [
            "\r 62%|██████▏   | 31/50 [27:29<17:00, 53.70s/it]"
          ],
          "name": "stderr"
        },
        {
          "output_type": "stream",
          "text": [
            "Epoch 31 - loss_d: 0.559, loss_g: 2.343\n"
          ],
          "name": "stdout"
        },
        {
          "output_type": "stream",
          "text": [
            "\r 64%|██████▍   | 32/50 [28:23<16:07, 53.75s/it]"
          ],
          "name": "stderr"
        },
        {
          "output_type": "stream",
          "text": [
            "Epoch 32 - loss_d: 0.567, loss_g: 2.371\n"
          ],
          "name": "stdout"
        },
        {
          "output_type": "stream",
          "text": [
            "\r 66%|██████▌   | 33/50 [29:17<15:14, 53.79s/it]"
          ],
          "name": "stderr"
        },
        {
          "output_type": "stream",
          "text": [
            "Epoch 33 - loss_d: 0.565, loss_g: 2.368\n"
          ],
          "name": "stdout"
        },
        {
          "output_type": "stream",
          "text": [
            "\r 68%|██████▊   | 34/50 [30:11<14:20, 53.80s/it]"
          ],
          "name": "stderr"
        },
        {
          "output_type": "stream",
          "text": [
            "Epoch 34 - loss_d: 0.559, loss_g: 2.377\n"
          ],
          "name": "stdout"
        },
        {
          "output_type": "stream",
          "text": [
            "\r 70%|███████   | 35/50 [31:05<13:26, 53.79s/it]"
          ],
          "name": "stderr"
        },
        {
          "output_type": "stream",
          "text": [
            "Epoch 35 - loss_d: 0.568, loss_g: 2.364\n"
          ],
          "name": "stdout"
        },
        {
          "output_type": "stream",
          "text": [
            "\r 72%|███████▏  | 36/50 [31:58<12:32, 53.75s/it]"
          ],
          "name": "stderr"
        },
        {
          "output_type": "stream",
          "text": [
            "Epoch 36 - loss_d: 0.569, loss_g: 2.377\n"
          ],
          "name": "stdout"
        },
        {
          "output_type": "stream",
          "text": [
            "\r 74%|███████▍  | 37/50 [32:52<11:38, 53.75s/it]"
          ],
          "name": "stderr"
        },
        {
          "output_type": "stream",
          "text": [
            "Epoch 37 - loss_d: 0.576, loss_g: 2.378\n"
          ],
          "name": "stdout"
        },
        {
          "output_type": "stream",
          "text": [
            "\r 76%|███████▌  | 38/50 [33:46<10:44, 53.72s/it]"
          ],
          "name": "stderr"
        },
        {
          "output_type": "stream",
          "text": [
            "Epoch 38 - loss_d: 0.577, loss_g: 2.368\n"
          ],
          "name": "stdout"
        },
        {
          "output_type": "stream",
          "text": [
            "\r 78%|███████▊  | 39/50 [34:40<09:50, 53.72s/it]"
          ],
          "name": "stderr"
        },
        {
          "output_type": "stream",
          "text": [
            "Epoch 39 - loss_d: 0.578, loss_g: 2.358\n"
          ],
          "name": "stdout"
        },
        {
          "output_type": "stream",
          "text": [
            "\r 80%|████████  | 40/50 [35:33<08:56, 53.67s/it]"
          ],
          "name": "stderr"
        },
        {
          "output_type": "stream",
          "text": [
            "Epoch 40 - loss_d: 0.584, loss_g: 2.387\n"
          ],
          "name": "stdout"
        },
        {
          "output_type": "stream",
          "text": [
            "\r 82%|████████▏ | 41/50 [36:27<08:03, 53.70s/it]"
          ],
          "name": "stderr"
        },
        {
          "output_type": "stream",
          "text": [
            "Epoch 41 - loss_d: 0.580, loss_g: 2.371\n"
          ],
          "name": "stdout"
        },
        {
          "output_type": "stream",
          "text": [
            "\r 84%|████████▍ | 42/50 [37:20<07:09, 53.67s/it]"
          ],
          "name": "stderr"
        },
        {
          "output_type": "stream",
          "text": [
            "Epoch 42 - loss_d: 0.583, loss_g: 2.367\n"
          ],
          "name": "stdout"
        },
        {
          "output_type": "stream",
          "text": [
            "\r 86%|████████▌ | 43/50 [38:14<06:15, 53.64s/it]"
          ],
          "name": "stderr"
        },
        {
          "output_type": "stream",
          "text": [
            "Epoch 43 - loss_d: 0.588, loss_g: 2.364\n"
          ],
          "name": "stdout"
        },
        {
          "output_type": "stream",
          "text": [
            "\r 88%|████████▊ | 44/50 [39:08<05:21, 53.63s/it]"
          ],
          "name": "stderr"
        },
        {
          "output_type": "stream",
          "text": [
            "Epoch 44 - loss_d: 0.587, loss_g: 2.352\n"
          ],
          "name": "stdout"
        },
        {
          "output_type": "stream",
          "text": [
            "\r 90%|█████████ | 45/50 [40:01<04:28, 53.63s/it]"
          ],
          "name": "stderr"
        },
        {
          "output_type": "stream",
          "text": [
            "Epoch 45 - loss_d: 0.587, loss_g: 2.367\n"
          ],
          "name": "stdout"
        },
        {
          "output_type": "stream",
          "text": [
            "\r 92%|█████████▏| 46/50 [40:55<03:34, 53.58s/it]"
          ],
          "name": "stderr"
        },
        {
          "output_type": "stream",
          "text": [
            "Epoch 46 - loss_d: 0.591, loss_g: 2.355\n"
          ],
          "name": "stdout"
        },
        {
          "output_type": "stream",
          "text": [
            "\r 94%|█████████▍| 47/50 [41:48<02:40, 53.54s/it]"
          ],
          "name": "stderr"
        },
        {
          "output_type": "stream",
          "text": [
            "Epoch 47 - loss_d: 0.598, loss_g: 2.370\n"
          ],
          "name": "stdout"
        },
        {
          "output_type": "error",
          "ename": "KeyboardInterrupt",
          "evalue": "ignored",
          "traceback": [
            "\u001b[0;31m---------------------------------------------------------------------------\u001b[0m",
            "\u001b[0;31mKeyboardInterrupt\u001b[0m                         Traceback (most recent call last)",
            "\u001b[0;32m<ipython-input-14-0d6be1e6d877>\u001b[0m in \u001b[0;36m<module>\u001b[0;34m()\u001b[0m\n\u001b[1;32m     47\u001b[0m     \u001b[0;31m#G_train_loss = Variable(G_train_loss,requires_grad=True)\u001b[0m\u001b[0;34m\u001b[0m\u001b[0;34m\u001b[0m\u001b[0;34m\u001b[0m\u001b[0m\n\u001b[1;32m     48\u001b[0m     \u001b[0mG_train_loss\u001b[0m\u001b[0;34m.\u001b[0m\u001b[0mbackward\u001b[0m\u001b[0;34m(\u001b[0m\u001b[0;34m)\u001b[0m\u001b[0;34m\u001b[0m\u001b[0;34m\u001b[0m\u001b[0m\n\u001b[0;32m---> 49\u001b[0;31m     \u001b[0moptimizerG\u001b[0m\u001b[0;34m.\u001b[0m\u001b[0mstep\u001b[0m\u001b[0;34m(\u001b[0m\u001b[0;34m)\u001b[0m\u001b[0;34m\u001b[0m\u001b[0;34m\u001b[0m\u001b[0m\n\u001b[0m\u001b[1;32m     50\u001b[0m     \u001b[0mloss_g\u001b[0m\u001b[0;34m.\u001b[0m\u001b[0mappend\u001b[0m\u001b[0;34m(\u001b[0m\u001b[0mG_train_loss\u001b[0m\u001b[0;34m)\u001b[0m\u001b[0;34m\u001b[0m\u001b[0;34m\u001b[0m\u001b[0m\n\u001b[1;32m     51\u001b[0m     \u001b[0mG_losses_overall\u001b[0m\u001b[0;34m.\u001b[0m\u001b[0mappend\u001b[0m\u001b[0;34m(\u001b[0m\u001b[0mG_train_loss\u001b[0m\u001b[0;34m)\u001b[0m\u001b[0;34m\u001b[0m\u001b[0;34m\u001b[0m\u001b[0m\n",
            "\u001b[0;32m/usr/local/lib/python3.7/dist-packages/torch/optim/optimizer.py\u001b[0m in \u001b[0;36mwrapper\u001b[0;34m(*args, **kwargs)\u001b[0m\n\u001b[1;32m     87\u001b[0m                 \u001b[0mprofile_name\u001b[0m \u001b[0;34m=\u001b[0m \u001b[0;34m\"Optimizer.step#{}.step\"\u001b[0m\u001b[0;34m.\u001b[0m\u001b[0mformat\u001b[0m\u001b[0;34m(\u001b[0m\u001b[0mobj\u001b[0m\u001b[0;34m.\u001b[0m\u001b[0m__class__\u001b[0m\u001b[0;34m.\u001b[0m\u001b[0m__name__\u001b[0m\u001b[0;34m)\u001b[0m\u001b[0;34m\u001b[0m\u001b[0;34m\u001b[0m\u001b[0m\n\u001b[1;32m     88\u001b[0m                 \u001b[0;32mwith\u001b[0m \u001b[0mtorch\u001b[0m\u001b[0;34m.\u001b[0m\u001b[0mautograd\u001b[0m\u001b[0;34m.\u001b[0m\u001b[0mprofiler\u001b[0m\u001b[0;34m.\u001b[0m\u001b[0mrecord_function\u001b[0m\u001b[0;34m(\u001b[0m\u001b[0mprofile_name\u001b[0m\u001b[0;34m)\u001b[0m\u001b[0;34m:\u001b[0m\u001b[0;34m\u001b[0m\u001b[0;34m\u001b[0m\u001b[0m\n\u001b[0;32m---> 89\u001b[0;31m                     \u001b[0;32mreturn\u001b[0m \u001b[0mfunc\u001b[0m\u001b[0;34m(\u001b[0m\u001b[0;34m*\u001b[0m\u001b[0margs\u001b[0m\u001b[0;34m,\u001b[0m \u001b[0;34m**\u001b[0m\u001b[0mkwargs\u001b[0m\u001b[0;34m)\u001b[0m\u001b[0;34m\u001b[0m\u001b[0;34m\u001b[0m\u001b[0m\n\u001b[0m\u001b[1;32m     90\u001b[0m             \u001b[0;32mreturn\u001b[0m \u001b[0mwrapper\u001b[0m\u001b[0;34m\u001b[0m\u001b[0;34m\u001b[0m\u001b[0m\n\u001b[1;32m     91\u001b[0m \u001b[0;34m\u001b[0m\u001b[0m\n",
            "\u001b[0;32m/usr/local/lib/python3.7/dist-packages/torch/autograd/grad_mode.py\u001b[0m in \u001b[0;36mdecorate_context\u001b[0;34m(*args, **kwargs)\u001b[0m\n\u001b[1;32m     25\u001b[0m         \u001b[0;32mdef\u001b[0m \u001b[0mdecorate_context\u001b[0m\u001b[0;34m(\u001b[0m\u001b[0;34m*\u001b[0m\u001b[0margs\u001b[0m\u001b[0;34m,\u001b[0m \u001b[0;34m**\u001b[0m\u001b[0mkwargs\u001b[0m\u001b[0;34m)\u001b[0m\u001b[0;34m:\u001b[0m\u001b[0;34m\u001b[0m\u001b[0;34m\u001b[0m\u001b[0m\n\u001b[1;32m     26\u001b[0m             \u001b[0;32mwith\u001b[0m \u001b[0mself\u001b[0m\u001b[0;34m.\u001b[0m\u001b[0m__class__\u001b[0m\u001b[0;34m(\u001b[0m\u001b[0;34m)\u001b[0m\u001b[0;34m:\u001b[0m\u001b[0;34m\u001b[0m\u001b[0;34m\u001b[0m\u001b[0m\n\u001b[0;32m---> 27\u001b[0;31m                 \u001b[0;32mreturn\u001b[0m \u001b[0mfunc\u001b[0m\u001b[0;34m(\u001b[0m\u001b[0;34m*\u001b[0m\u001b[0margs\u001b[0m\u001b[0;34m,\u001b[0m \u001b[0;34m**\u001b[0m\u001b[0mkwargs\u001b[0m\u001b[0;34m)\u001b[0m\u001b[0;34m\u001b[0m\u001b[0;34m\u001b[0m\u001b[0m\n\u001b[0m\u001b[1;32m     28\u001b[0m         \u001b[0;32mreturn\u001b[0m \u001b[0mcast\u001b[0m\u001b[0;34m(\u001b[0m\u001b[0mF\u001b[0m\u001b[0;34m,\u001b[0m \u001b[0mdecorate_context\u001b[0m\u001b[0;34m)\u001b[0m\u001b[0;34m\u001b[0m\u001b[0;34m\u001b[0m\u001b[0m\n\u001b[1;32m     29\u001b[0m \u001b[0;34m\u001b[0m\u001b[0m\n",
            "\u001b[0;32m/usr/local/lib/python3.7/dist-packages/torch/optim/adam.py\u001b[0m in \u001b[0;36mstep\u001b[0;34m(self, closure)\u001b[0m\n\u001b[1;32m    117\u001b[0m                    \u001b[0mgroup\u001b[0m\u001b[0;34m[\u001b[0m\u001b[0;34m'lr'\u001b[0m\u001b[0;34m]\u001b[0m\u001b[0;34m,\u001b[0m\u001b[0;34m\u001b[0m\u001b[0;34m\u001b[0m\u001b[0m\n\u001b[1;32m    118\u001b[0m                    \u001b[0mgroup\u001b[0m\u001b[0;34m[\u001b[0m\u001b[0;34m'weight_decay'\u001b[0m\u001b[0;34m]\u001b[0m\u001b[0;34m,\u001b[0m\u001b[0;34m\u001b[0m\u001b[0;34m\u001b[0m\u001b[0m\n\u001b[0;32m--> 119\u001b[0;31m                    group['eps'])\n\u001b[0m\u001b[1;32m    120\u001b[0m         \u001b[0;32mreturn\u001b[0m \u001b[0mloss\u001b[0m\u001b[0;34m\u001b[0m\u001b[0;34m\u001b[0m\u001b[0m\n",
            "\u001b[0;32m/usr/local/lib/python3.7/dist-packages/torch/optim/_functional.py\u001b[0m in \u001b[0;36madam\u001b[0;34m(params, grads, exp_avgs, exp_avg_sqs, max_exp_avg_sqs, state_steps, amsgrad, beta1, beta2, lr, weight_decay, eps)\u001b[0m\n\u001b[1;32m     82\u001b[0m \u001b[0;34m\u001b[0m\u001b[0m\n\u001b[1;32m     83\u001b[0m         \u001b[0;31m# Decay the first and second moment running average coefficient\u001b[0m\u001b[0;34m\u001b[0m\u001b[0;34m\u001b[0m\u001b[0;34m\u001b[0m\u001b[0m\n\u001b[0;32m---> 84\u001b[0;31m         \u001b[0mexp_avg\u001b[0m\u001b[0;34m.\u001b[0m\u001b[0mmul_\u001b[0m\u001b[0;34m(\u001b[0m\u001b[0mbeta1\u001b[0m\u001b[0;34m)\u001b[0m\u001b[0;34m.\u001b[0m\u001b[0madd_\u001b[0m\u001b[0;34m(\u001b[0m\u001b[0mgrad\u001b[0m\u001b[0;34m,\u001b[0m \u001b[0malpha\u001b[0m\u001b[0;34m=\u001b[0m\u001b[0;36m1\u001b[0m \u001b[0;34m-\u001b[0m \u001b[0mbeta1\u001b[0m\u001b[0;34m)\u001b[0m\u001b[0;34m\u001b[0m\u001b[0;34m\u001b[0m\u001b[0m\n\u001b[0m\u001b[1;32m     85\u001b[0m         \u001b[0mexp_avg_sq\u001b[0m\u001b[0;34m.\u001b[0m\u001b[0mmul_\u001b[0m\u001b[0;34m(\u001b[0m\u001b[0mbeta2\u001b[0m\u001b[0;34m)\u001b[0m\u001b[0;34m.\u001b[0m\u001b[0maddcmul_\u001b[0m\u001b[0;34m(\u001b[0m\u001b[0mgrad\u001b[0m\u001b[0;34m,\u001b[0m \u001b[0mgrad\u001b[0m\u001b[0;34m,\u001b[0m \u001b[0mvalue\u001b[0m\u001b[0;34m=\u001b[0m\u001b[0;36m1\u001b[0m \u001b[0;34m-\u001b[0m \u001b[0mbeta2\u001b[0m\u001b[0;34m)\u001b[0m\u001b[0;34m\u001b[0m\u001b[0;34m\u001b[0m\u001b[0m\n\u001b[1;32m     86\u001b[0m         \u001b[0;32mif\u001b[0m \u001b[0mamsgrad\u001b[0m\u001b[0;34m:\u001b[0m\u001b[0;34m\u001b[0m\u001b[0;34m\u001b[0m\u001b[0m\n",
            "\u001b[0;31mKeyboardInterrupt\u001b[0m: "
          ]
        }
      ]
    },
    {
      "cell_type": "code",
      "metadata": {
        "id": "0n0ucAKAKOmW",
        "colab": {
          "base_uri": "https://localhost:8080/",
          "height": 282
        },
        "outputId": "08a556cf-3680-4317-f050-fa0c2ec97480"
      },
      "source": [
        "plt.plot(loss_D_overepoch,label=\"loss_D_overepoch\")\n",
        "\n",
        "plt.plot(loss_G_overepoch,label=\"loss_G_overepoch\")\n",
        "plt.legend()"
      ],
      "execution_count": 15,
      "outputs": [
        {
          "output_type": "execute_result",
          "data": {
            "text/plain": [
              "<matplotlib.legend.Legend at 0x7ff1ced53390>"
            ]
          },
          "metadata": {
            "tags": []
          },
          "execution_count": 15
        },
        {
          "output_type": "display_data",
          "data": {
            "image/png": "[encoded data removed]",
            "text/plain": [
              "<Figure size 432x288 with 1 Axes>"
            ]
          },
          "metadata": {
            "tags": [],
            "needs_background": "light"
          }
        }
      ]
    },
    {
      "cell_type": "code",
      "metadata": {
        "id": "cAxzGitRKRBk"
      },
      "source": [
        "plt.plot(D_losses_overall,label=\"D_losses_overall\")\n",
        "plt.plot(G_losses_overall,label=\"G_losses_overall\")"
      ],
      "execution_count": null,
      "outputs": []
    },
    {
      "cell_type": "markdown",
      "metadata": {
        "id": "XJXTwc2In3w6"
      },
      "source": [
        "## Loss\n",
        "f. Report loss curves for both the discriminator and the generator loss over all epochs, and qualitatively comment on their behavior."
      ]
    },
    {
      "cell_type": "code",
      "metadata": {
        "id": "0ZVHjxoin7Do",
        "colab": {
          "base_uri": "https://localhost:8080/",
          "height": 281
        },
        "outputId": "12629bb8-95ab-4324-ba20-949c95a9b07c"
      },
      "source": [
        "plt.plot(loss_D_overepoch,label=\"loss_D_overepoch\")\n",
        "\n",
        "plt.plot(loss_G_overepoch,label=\"loss_G_overepoch\")\n",
        "plt.legend()"
      ],
      "execution_count": null,
      "outputs": [
        {
          "output_type": "execute_result",
          "data": {
            "text/plain": [
              "<matplotlib.legend.Legend at 0x7fa87d401550>"
            ]
          },
          "metadata": {
            "tags": []
          },
          "execution_count": 15
        },
        {
          "output_type": "display_data",
          "data": {
            "image/png": "[encoded data removed]",
            "text/plain": [
              "<Figure size 432x288 with 1 Axes>"
            ]
          },
          "metadata": {
            "tags": [],
            "needs_background": "light"
          }
        }
      ]
    },
    {
      "cell_type": "code",
      "metadata": {
        "id": "vJgb7Lf3vwDh",
        "colab": {
          "base_uri": "https://localhost:8080/",
          "height": 281
        },
        "outputId": "a73fdbae-5e13-4539-b8bb-4e0ca7b81453"
      },
      "source": [
        "\n",
        "plt.plot(D_losses_overall,label=\"D_losses_overall\")\n",
        "plt.plot(G_losses_overall,label=\"G_losses_overall\")"
      ],
      "execution_count": null,
      "outputs": [
        {
          "output_type": "execute_result",
          "data": {
            "text/plain": [
              "[<matplotlib.lines.Line2D at 0x7fa8908eff10>]"
            ]
          },
          "metadata": {
            "tags": []
          },
          "execution_count": 16
        },
        {
          "output_type": "display_data",
          "data": {
            "image/png": "[encoded data removed]",
            "text/plain": [
              "<Figure size 432x288 with 1 Axes>"
            ]
          },
          "metadata": {
            "tags": [],
            "needs_background": "light"
          }
        }
      ]
    },
    {
      "cell_type": "code",
      "metadata": {
        "id": "oW3zA4M1cq9J"
      },
      "source": [
        ""
      ],
      "execution_count": null,
      "outputs": []
    }
  ]
}