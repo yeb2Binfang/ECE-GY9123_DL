{
  "nbformat": 4,
  "nbformat_minor": 0,
  "metadata": {
    "colab": {
      "name": "generate_CSV_txt.ipynb",
      "provenance": [],
      "include_colab_link": true
    },
    "kernelspec": {
      "name": "python3",
      "display_name": "Python 3"
    },
    "language_info": {
      "name": "python"
    }
  },
  "cells": [
    {
      "cell_type": "markdown",
      "metadata": {
        "id": "view-in-github",
        "colab_type": "text"
      },
      "source": [
        "<a href=\"https://colab.research.google.com/github/yeb2Binfang/ECE-GY9123_DL/blob/main/Project/Yolov1/generate_CSV_txt.ipynb\" target=\"_parent\"><img src=\"https://colab.research.google.com/assets/colab-badge.svg\" alt=\"Open In Colab\"/></a>"
      ]
    },
    {
      "cell_type": "markdown",
      "metadata": {
        "id": "MTOhGIhU0484"
      },
      "source": [
        "We use this to generate csv file and txt file. The files containt the image info\n",
        "\n",
        "img name: img (#).jpg\n",
        "label name: label (#).txt"
      ]
    },
    {
      "cell_type": "code",
      "metadata": {
        "id": "Zw72Xv7_1Bcz"
      },
      "source": [
        "img_path = \"img (\"\n",
        "label_path = \"label (\"\n",
        "\n",
        "no_of_img = 5000\n",
        "\n",
        "path = []\n",
        "for i in range(no_of_img):\n",
        "  path_both = []\n",
        "  path_img = img_path + str(i+1) + \").jpg\"\n",
        "  path_label = label_path + str(i+1) + \").txt\"\n",
        "  path_both.append(path_img)\n",
        "  path_both.append(path_label)\n",
        "  path.append(path_both)"
      ],
      "execution_count": null,
      "outputs": []
    },
    {
      "cell_type": "code",
      "metadata": {
        "colab": {
          "base_uri": "https://localhost:8080/"
        },
        "id": "rei5TrTn483L",
        "outputId": "3a707c17-c8cc-4423-e31f-4d72ea6436e1"
      },
      "source": [
        "print(path[0])"
      ],
      "execution_count": null,
      "outputs": [
        {
          "output_type": "stream",
          "text": [
            "['img (1).jpg', 'label (1).txt']\n"
          ],
          "name": "stdout"
        }
      ]
    },
    {
      "cell_type": "code",
      "metadata": {
        "id": "yxBdNibImKWa"
      },
      "source": [
        "import csv\n",
        "\n",
        "#python2可以用file替代open\n",
        "with open(\"trian.csv\",\"w\") as csvfile: \n",
        "  writer = csv.writer(csvfile)\n",
        "\n",
        "  #先写入columns_name\n",
        "  writer.writerow([\"image\",\"text\"])\n",
        "  #写入多行用writerows\n",
        "  writer.writerows(path)\n"
      ],
      "execution_count": null,
      "outputs": []
    },
    {
      "cell_type": "code",
      "metadata": {
        "id": "K8mcyFjRZZJi"
      },
      "source": [
        ""
      ],
      "execution_count": null,
      "outputs": []
    }
  ]
}